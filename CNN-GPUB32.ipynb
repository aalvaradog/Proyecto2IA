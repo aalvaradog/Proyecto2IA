{
 "cells": [
  {
   "cell_type": "code",
   "execution_count": 2,
   "metadata": {
    "metadata": {}
   },
   "outputs": [],
   "source": [
    "import torch.nn as nn\n",
    "import torch.optim as optim\n",
    "import torchvision.transforms as transforms\n",
    "import numpy as np\n",
    "import torch.nn.functional as F\n",
    "import wandb\n",
    "import os\n",
    "import time\n",
    "import torch.optim as optim\n",
    "import matplotlib.pyplot as plt\n",
    "from torchvision import datasets, transforms\n",
    "from torch.utils.data import DataLoader\n",
    "import math\n",
    "import torch"
   ]
  },
  {
   "cell_type": "code",
   "execution_count": 8,
   "metadata": {
    "metadata": {}
   },
   "outputs": [],
   "source": [
    "# Definir la arquitectura de la CNN\n",
    "class CNN(nn.Module):\n",
    "    def __init__(self):\n",
    "        super(CNN, self).__init__()\n",
    "        #Canales de entrada, Canales de salida, Tamaño de Kernel, Stride y Padding\n",
    "        self.conv1 = nn.Conv2d(3, 16, 3, 1, 2)\n",
    "        self.conv2 = nn.Conv2d(16, 64, 3, 1, 1) \n",
    "        self.conv3 = nn.Conv2d(64, 128, 3, 1, 1)\n",
    "        self.dropout = nn.Dropout(0.2)\n",
    "        self.fc1 = nn.Linear(128 * 4 * 4, 512) \n",
    "        self.fc2 = nn.Linear(512, 256)\n",
    "        self.fc3 = nn.Linear(256, 3)\n",
    "\n",
    "    def forward(self, x):\n",
    "        #Entrada (batch, channels, ancho, largo)\n",
    "        # (64, 3, 32, 32)\n",
    "        x = torch.relu(self.conv1(x))\n",
    "        x = torch.max_pool2d(x, 2, 2) # No es una capa aprendible. (feature_maps, stride, padding)\n",
    "        # (64, 16, 16, 16)\n",
    "        x = torch.relu(self.conv2(x))\n",
    "        x = torch.max_pool2d(x, 2, 2)\n",
    "        # (64, 64, 8, 8)\n",
    "        x = torch.relu(self.conv3(x))\n",
    "        x = self.dropout(x)\n",
    "        x = torch.max_pool2d(x, 2, 2)\n",
    "        # (64, 128, 4, 4)\n",
    "        x = x.view(-1, 128 * 4 * 4)\n",
    "        # (64, 2048)\n",
    "        x = torch.relu(self.fc1(x))\n",
    "        x = torch.relu(self.fc2(x))\n",
    "        x = self.fc3(x)\n",
    "        return x\n",
    "    \n",
    "# Definir la arquitectura de la CNN 1 convoluciones y 1 redes fc \n",
    "# Definir la arquitectura de la CNN\n",
    "class CNNSimpleUno(nn.Module):\n",
    "    def __init__(self):\n",
    "        super(CNNSimpleUno, self).__init__()\n",
    "        self.conv1 = nn.Conv2d(3, 128, 3,1,2)\n",
    "        self.dropout = nn.Dropout(0.2)\n",
    "        self.fc1 = nn.Linear(128 * 4 * 4, 512)\n",
    "        self.fc2 = nn.Linear(512, 3)\n",
    "\n",
    "    def forward(self, x):\n",
    "\n",
    "        x = torch.relu(self.conv1(x))\n",
    "        x = torch.max_pool2d(x, 8, 8)\n",
    "\n",
    "        x = self.dropout(x)\n",
    "\n",
    "        x = x.view(-1, 128 * 4 * 4)\n",
    "        x = torch.relu(self.fc1(x))\n",
    "        x = self.fc2(x)\n",
    "        return x\n",
    "    \n",
    "    # Definir la arquitectura de la CNN 2 convoluciones y 2 redes fc \n",
    "class CNNSimpleDos(nn.Module):\n",
    "    def __init__(self):\n",
    "        super(CNNSimpleDos, self).__init__()\n",
    "        self.conv1 = nn.Conv2d(3, 64, 3,1,2)\n",
    "        self.conv2 = nn.Conv2d(64, 128, 3, 1, 1) \n",
    "\n",
    "        self.dropout = nn.Dropout(0.2)\n",
    "\n",
    "        self.fc1 = nn.Linear(128 * 4 * 4, 512)\n",
    "        self.fc2 = nn.Linear(512, 256)\n",
    "        self.fc3 = nn.Linear(256, 3)\n",
    "\n",
    "    def forward(self, x):\n",
    "\n",
    "        x = torch.relu(self.conv1(x))\n",
    "\n",
    "        x = torch.max_pool2d(x, 4, 4)\n",
    "       \n",
    "\n",
    "        x = torch.relu(self.conv2(x))\n",
    "        x = self.dropout(x)\n",
    "        x = torch.max_pool2d(x, 2, 2)\n",
    "        x = x.view(-1, 128 * 4 * 4)\n",
    "        x = torch.relu(self.fc1(x))\n",
    "        x = torch.relu(self.fc2(x))\n",
    "        x = self.fc3(x)\n",
    "        return x\n",
    "    \n",
    "  "
   ]
  },
  {
   "cell_type": "code",
   "execution_count": 5,
   "metadata": {
    "metadata": {}
   },
   "outputs": [
    {
     "name": "stdout",
     "output_type": "stream",
     "text": [
      "Is Torch Cuda Available? True\n"
     ]
    }
   ],
   "source": [
    "device = torch.device(\"cuda\" if torch.cuda.is_available() else \"cpu\")\n",
    "print(\"Is Torch Cuda Available? \" + str(torch.cuda.is_available()))"
   ]
  },
  {
   "cell_type": "code",
   "execution_count": 6,
   "metadata": {},
   "outputs": [],
   "source": [
    "def train(network,  criterion, optimizer, trainloader):\n",
    "    network.train() # Se asigna el the modelo a train mode\n",
    "    running_loss = 0.0\n",
    "    #correctos y torales para el acurracy\n",
    "    correct = 0\n",
    "    total = 0\n",
    "    # Entrenamiento del modelo\n",
    "    for i, data in enumerate(trainloader, 0):\n",
    "        inputs, labels = data\n",
    "        inputs = inputs.to(device)\n",
    "        labels = labels.to(device)\n",
    "        optimizer.zero_grad()\n",
    "        outputs = network(inputs)\n",
    "        # Se calcula el loss actual \n",
    "        loss = criterion(outputs, labels)\n",
    "        loss.backward()\n",
    "        optimizer.step()\n",
    "         #Para el accuracy\n",
    "        running_loss += loss.item()\n",
    "        _, predicted = outputs.max(1)\n",
    "        total += labels.size(0)\n",
    "        \n",
    "        correct += predicted.eq(labels).sum().item()\n",
    "    accuracy = 100 * correct / total\n",
    "    return running_loss / len(trainloader), accuracy\n",
    "\n",
    "def validate(network,  criterion, testloader):\n",
    "    network.eval()  # Se asigna el the modelo a evaluation mode\n",
    "    total_loss = 0.0\n",
    "    #correctos y torales para el acurracy\n",
    "    correct = 0\n",
    "    total = 0\n",
    "    # Y correctos y la Y predicion matrix de confusion\n",
    "    y_true = []\n",
    "    y_pred = []\n",
    "    # Testeo del modelo\n",
    "    with torch.no_grad():  # Disable gradient computation during validation\n",
    "        for data in testloader:\n",
    "            inputs, labels = data\n",
    "            inputs = inputs.to(device)\n",
    "            labels = labels.to(device)\n",
    "            outputs = network(inputs)\n",
    "            loss = criterion(outputs, labels)\n",
    "            # Se calcula el loss actual \n",
    "            total_loss += loss.item()\n",
    "            _, predicted = outputs.max(1)\n",
    "            #Para el accuracy\n",
    "            total += labels.size(0)\n",
    "            correct += predicted.eq(labels).sum().item()\n",
    "            #matrix de confusion\n",
    "            y_true.extend(labels.cpu().numpy())\n",
    "            y_pred.extend(predicted.cpu().numpy())\n",
    "\n",
    "    \n",
    "    accuracy = 100 * correct / total\n",
    "    avg_loss = total_loss / len(testloader)\n",
    "    return avg_loss, accuracy,y_true,y_pred"
   ]
  },
  {
   "cell_type": "code",
   "execution_count": 11,
   "metadata": {},
   "outputs": [
    {
     "name": "stderr",
     "output_type": "stream",
     "text": [
      "\u001b[34m\u001b[1mwandb\u001b[0m: \u001b[33mWARNING\u001b[0m Calling wandb.login() after wandb.init() has no effect.\n"
     ]
    },
    {
     "data": {
      "text/html": [
       "Finishing last run (ID:pi3oppur) before initializing another..."
      ],
      "text/plain": [
       "<IPython.core.display.HTML object>"
      ]
     },
     "metadata": {},
     "output_type": "display_data"
    },
    {
     "data": {
      "text/html": [
       " View run <strong style=\"color:#cdcd00\">civilized-force-34</strong> at: <a href='https://wandb.ai/sebas1498/Proyecto2/runs/pi3oppur/workspace' target=\"_blank\">https://wandb.ai/sebas1498/Proyecto2/runs/pi3oppur/workspace</a><br/>Synced 5 W&B file(s), 0 media file(s), 0 artifact file(s) and 0 other file(s)"
      ],
      "text/plain": [
       "<IPython.core.display.HTML object>"
      ]
     },
     "metadata": {},
     "output_type": "display_data"
    },
    {
     "data": {
      "text/html": [
       "Find logs at: <code>.\\wandb\\run-20240505_154308-pi3oppur\\logs</code>"
      ],
      "text/plain": [
       "<IPython.core.display.HTML object>"
      ]
     },
     "metadata": {},
     "output_type": "display_data"
    },
    {
     "data": {
      "text/html": [
       "Successfully finished last run (ID:pi3oppur). Initializing new run:<br/>"
      ],
      "text/plain": [
       "<IPython.core.display.HTML object>"
      ]
     },
     "metadata": {},
     "output_type": "display_data"
    },
    {
     "data": {
      "text/html": [
       "wandb version 0.16.6 is available!  To upgrade, please run:\n",
       " $ pip install wandb --upgrade"
      ],
      "text/plain": [
       "<IPython.core.display.HTML object>"
      ]
     },
     "metadata": {},
     "output_type": "display_data"
    },
    {
     "data": {
      "text/html": [
       "Tracking run with wandb version 0.16.5"
      ],
      "text/plain": [
       "<IPython.core.display.HTML object>"
      ]
     },
     "metadata": {},
     "output_type": "display_data"
    },
    {
     "data": {
      "text/html": [
       "Run data is saved locally in <code>c:\\Users\\tian_\\Desktop\\Proyecto2\\wandb\\run-20240505_154506-6g0omxf4</code>"
      ],
      "text/plain": [
       "<IPython.core.display.HTML object>"
      ]
     },
     "metadata": {},
     "output_type": "display_data"
    },
    {
     "data": {
      "text/html": [
       "Syncing run <strong><a href='https://wandb.ai/sebas1498/Proyecto2/runs/6g0omxf4/workspace' target=\"_blank\">stellar-bantha-2</a></strong> to <a href='https://wandb.ai/sebas1498/Proyecto2' target=\"_blank\">Weights & Biases</a> (<a href='https://wandb.me/run' target=\"_blank\">docs</a>)<br/>"
      ],
      "text/plain": [
       "<IPython.core.display.HTML object>"
      ]
     },
     "metadata": {},
     "output_type": "display_data"
    },
    {
     "data": {
      "text/html": [
       " View project at <a href='https://wandb.ai/sebas1498/Proyecto2' target=\"_blank\">https://wandb.ai/sebas1498/Proyecto2</a>"
      ],
      "text/plain": [
       "<IPython.core.display.HTML object>"
      ]
     },
     "metadata": {},
     "output_type": "display_data"
    },
    {
     "data": {
      "text/html": [
       " View run at <a href='https://wandb.ai/sebas1498/Proyecto2/runs/6g0omxf4/workspace' target=\"_blank\">https://wandb.ai/sebas1498/Proyecto2/runs/6g0omxf4/workspace</a>"
      ],
      "text/plain": [
       "<IPython.core.display.HTML object>"
      ]
     },
     "metadata": {},
     "output_type": "display_data"
    },
    {
     "name": "stdout",
     "output_type": "stream",
     "text": [
      "Epoch: 1  Train Loss: 0.5624  Train Acc: 75.4316  Valid Loss: 0.4120  Valid Acc: 83.0808\n",
      "Epoch: 2  Train Loss: 0.2799  Train Acc: 89.6414  Valid Loss: 0.5542  Valid Acc: 79.0404\n",
      "Epoch: 3  Train Loss: 0.2106  Train Acc: 91.4343  Valid Loss: 0.3750  Valid Acc: 87.8788\n",
      "Epoch: 4  Train Loss: 0.1317  Train Acc: 94.2895  Valid Loss: 0.3790  Valid Acc: 83.8384\n",
      "Epoch: 5  Train Loss: 0.0851  Train Acc: 96.8127  Valid Loss: 0.4699  Valid Acc: 82.8283\n",
      "Epoch: 6  Train Loss: 0.0588  Train Acc: 98.0080  Valid Loss: 0.4386  Valid Acc: 86.3636\n",
      "Epoch: 7  Train Loss: 0.0623  Train Acc: 97.8088  Valid Loss: 0.7791  Valid Acc: 83.3333\n",
      "Epoch: 8  Train Loss: 0.0596  Train Acc: 98.1408  Valid Loss: 0.4370  Valid Acc: 87.3737\n",
      "Epoch: 9  Train Loss: 0.0730  Train Acc: 99.0704  Valid Loss: 0.5620  Valid Acc: 88.3838\n",
      "Epoch: 10  Train Loss: 0.1308  Train Acc: 94.6215  Valid Loss: 0.4055  Valid Acc: 87.1212\n"
     ]
    }
   ],
   "source": [
    "# CNNSimpleDos con raw dataset\n",
    "# directorio para leer los datos\n",
    "data_dir = 'C:/Users/tian_/Desktop/Proyecto2/Data/raw'\n",
    "\n",
    "transform = transforms.Compose([\n",
    "    # convert the images to tensor shape\n",
    "    transforms.ToTensor(),\n",
    "    # Transformrs the images to 128 x 128, se hace porque no son constantes los tamaños\n",
    "    transforms.Resize((32, 32)),\n",
    "    # se normalizan los canales RGB la media y la deviacion stander en 0.5 cada canal\n",
    "    transforms.Normalize((0.5, 0.5, 0.5), (0.5, 0.5, 0.5))\n",
    "])\n",
    "# Data Loader carga del folder de training las imagenes y las etiqueta con el nombre del folder donde estan\n",
    "# en este caso Covid, Normal y Viral Pneumonia\n",
    "trainset = datasets.ImageFolder(os.path.join(data_dir, 'training_set'), transform=transform)\n",
    "testset = datasets.ImageFolder(os.path.join(data_dir, 'test_set'), transform=transform)\n",
    "#Iterable del dataset\n",
    "# probar con 32 or 64 for better results\n",
    "trainloader = DataLoader(trainset, batch_size=32, shuffle=True)\n",
    "#Iterable del dataset\n",
    "testloader = DataLoader(testset, batch_size=32, shuffle=False)\n",
    "# se encuenta el numero de ejemplos, el numero de batch preselecionado y se calculan el total de numero de batceh por epoca\n",
    "total_samples = len(trainloader.dataset)\n",
    "batch_size = trainloader.batch_size\n",
    "num_batches_per_epoch = math.ceil(total_samples / batch_size)\n",
    "\n",
    "print(\"Total samples:\", total_samples)\n",
    "print(\"Batch size:\", batch_size)\n",
    "print(\"Number of batches per epoch:\", num_batches_per_epoch)\n",
    "\n",
    "# Set your API key as an environment variable para wandb\n",
    "os.environ[\"WANDB_API_KEY\"] = \"ea93e82127178cd6709c03f277029a17909d3cbc\"\n",
    "wandb.login()\n",
    "\n",
    "# Hyperparametros de entrenamiento\n",
    "epochs = 10\n",
    "lr = 0.0005\n",
    "class_names = [\"Covid\", \"Normal\", \"Viral Pneumonia\"]\n",
    "\n",
    "# Parametros para inicializar Wandb\n",
    "run = wandb.init(\n",
    "    # Set the project where this run will be logged\n",
    "    project=\"Proyecto2\",\n",
    "    # Track hyperparameters and run metadata\n",
    "    config={\n",
    "        \"learning_rate\": lr,\n",
    "        \"epochs\": epochs,\n",
    "    },\n",
    ")\n",
    "\n",
    "#Se inicializa la red y se escoge la funcion de perdida y la de optimizacion\n",
    "network = CNNSimpleDos().to(device)\n",
    "criterion = nn.CrossEntropyLoss()\n",
    "optimizer = optim.Adam(network.parameters(), lr)\n",
    "\n",
    "# Log the network weight histograms (optional)\n",
    "wandb.watch(network, log=\"all\")\n",
    "\n",
    "\n",
    "start_time = time.time()\n",
    "for epoch in range(1, epochs+1):\n",
    "    \n",
    "    loss_train, acc_train = train(network,  criterion, optimizer, trainloader)\n",
    "    loss_valid, acc_valid,y_true,y_pred = validate(network,  criterion, testloader)\n",
    "    \n",
    "    print('Epoch: {}  Train Loss: {:.4f}  Train Acc: {:.4f}  Valid Loss: {:.4f}  Valid Acc: {:.4f}'.format(epoch, loss_train, acc_train, loss_valid, acc_valid))\n",
    "\n",
    "    # Logs en tiempo real de wandb\n",
    "    wandb.log({\n",
    "        \"Epoch\": epoch,\n",
    "        \"Train Loss\": loss_train,\n",
    "        \"Train Acc\": acc_train,\n",
    "        \"Valid Loss\": loss_valid,\n",
    "        \"Valid Acc\": acc_valid,\n",
    "        \"Elapsed time:\":time.time() - start_time})\n",
    "    \n",
    "    wandb.log({\"confusion_matrix\": wandb.plot.confusion_matrix(probs=None,\n",
    "                                                                y_true=y_true,\n",
    "                                                                preds=y_pred,\n",
    "                                                                class_names=class_names,\n",
    "                                                                title = \"Confusion Matrix\")},\n",
    "                                                                commit=False)\n",
    "    \n",
    "   \n",
    "\n",
    "\n",
    "\n",
    "\n"
   ]
  },
  {
   "cell_type": "code",
   "execution_count": 13,
   "metadata": {},
   "outputs": [
    {
     "name": "stderr",
     "output_type": "stream",
     "text": [
      "\u001b[34m\u001b[1mwandb\u001b[0m: \u001b[33mWARNING\u001b[0m Calling wandb.login() after wandb.init() has no effect.\n"
     ]
    },
    {
     "data": {
      "text/html": [
       "Finishing last run (ID:6g0omxf4) before initializing another..."
      ],
      "text/plain": [
       "<IPython.core.display.HTML object>"
      ]
     },
     "metadata": {},
     "output_type": "display_data"
    },
    {
     "data": {
      "text/html": [
       "<style>\n",
       "    table.wandb td:nth-child(1) { padding: 0 10px; text-align: left ; width: auto;} td:nth-child(2) {text-align: left ; width: 100%}\n",
       "    .wandb-row { display: flex; flex-direction: row; flex-wrap: wrap; justify-content: flex-start; width: 100% }\n",
       "    .wandb-col { display: flex; flex-direction: column; flex-basis: 100%; flex: 1; padding: 10px; }\n",
       "    </style>\n",
       "<div class=\"wandb-row\"><div class=\"wandb-col\"><h3>Run history:</h3><br/><table class=\"wandb\"><tr><td>Elapsed time:</td><td>▁▂▃▃▄▅▆▆▇█</td></tr><tr><td>Epoch</td><td>▁▂▃▃▄▅▆▆▇█</td></tr><tr><td>Train Acc</td><td>▁▅▆▇▇████▇</td></tr><tr><td>Train Loss</td><td>█▄▃▂▁▁▁▁▁▂</td></tr><tr><td>Valid Acc</td><td>▄▁█▅▄▆▄▇█▇</td></tr><tr><td>Valid Loss</td><td>▂▄▁▁▃▂█▂▄▂</td></tr></table><br/></div><div class=\"wandb-col\"><h3>Run summary:</h3><br/><table class=\"wandb\"><tr><td>Elapsed time:</td><td>885.06064</td></tr><tr><td>Epoch</td><td>10</td></tr><tr><td>Train Acc</td><td>94.62151</td></tr><tr><td>Train Loss</td><td>0.13076</td></tr><tr><td>Valid Acc</td><td>87.12121</td></tr><tr><td>Valid Loss</td><td>0.40552</td></tr></table><br/></div></div>"
      ],
      "text/plain": [
       "<IPython.core.display.HTML object>"
      ]
     },
     "metadata": {},
     "output_type": "display_data"
    },
    {
     "data": {
      "text/html": [
       " View run <strong style=\"color:#cdcd00\">stellar-bantha-2</strong> at: <a href='https://wandb.ai/sebas1498/Proyecto2/runs/6g0omxf4/workspace' target=\"_blank\">https://wandb.ai/sebas1498/Proyecto2/runs/6g0omxf4/workspace</a><br/>Synced 5 W&B file(s), 10 media file(s), 10 artifact file(s) and 0 other file(s)"
      ],
      "text/plain": [
       "<IPython.core.display.HTML object>"
      ]
     },
     "metadata": {},
     "output_type": "display_data"
    },
    {
     "data": {
      "text/html": [
       "Find logs at: <code>.\\wandb\\run-20240505_154506-6g0omxf4\\logs</code>"
      ],
      "text/plain": [
       "<IPython.core.display.HTML object>"
      ]
     },
     "metadata": {},
     "output_type": "display_data"
    },
    {
     "data": {
      "text/html": [
       "Successfully finished last run (ID:6g0omxf4). Initializing new run:<br/>"
      ],
      "text/plain": [
       "<IPython.core.display.HTML object>"
      ]
     },
     "metadata": {},
     "output_type": "display_data"
    },
    {
     "data": {
      "text/html": [
       "wandb version 0.16.6 is available!  To upgrade, please run:\n",
       " $ pip install wandb --upgrade"
      ],
      "text/plain": [
       "<IPython.core.display.HTML object>"
      ]
     },
     "metadata": {},
     "output_type": "display_data"
    },
    {
     "data": {
      "text/html": [
       "Tracking run with wandb version 0.16.5"
      ],
      "text/plain": [
       "<IPython.core.display.HTML object>"
      ]
     },
     "metadata": {},
     "output_type": "display_data"
    },
    {
     "data": {
      "text/html": [
       "Run data is saved locally in <code>c:\\Users\\tian_\\Desktop\\Proyecto2\\wandb\\run-20240505_160116-jjg0anom</code>"
      ],
      "text/plain": [
       "<IPython.core.display.HTML object>"
      ]
     },
     "metadata": {},
     "output_type": "display_data"
    },
    {
     "data": {
      "text/html": [
       "Syncing run <strong><a href='https://wandb.ai/sebas1498/Proyecto2/runs/jjg0anom/workspace' target=\"_blank\">clone-council-3</a></strong> to <a href='https://wandb.ai/sebas1498/Proyecto2' target=\"_blank\">Weights & Biases</a> (<a href='https://wandb.me/run' target=\"_blank\">docs</a>)<br/>"
      ],
      "text/plain": [
       "<IPython.core.display.HTML object>"
      ]
     },
     "metadata": {},
     "output_type": "display_data"
    },
    {
     "data": {
      "text/html": [
       " View project at <a href='https://wandb.ai/sebas1498/Proyecto2' target=\"_blank\">https://wandb.ai/sebas1498/Proyecto2</a>"
      ],
      "text/plain": [
       "<IPython.core.display.HTML object>"
      ]
     },
     "metadata": {},
     "output_type": "display_data"
    },
    {
     "data": {
      "text/html": [
       " View run at <a href='https://wandb.ai/sebas1498/Proyecto2/runs/jjg0anom/workspace' target=\"_blank\">https://wandb.ai/sebas1498/Proyecto2/runs/jjg0anom/workspace</a>"
      ],
      "text/plain": [
       "<IPython.core.display.HTML object>"
      ]
     },
     "metadata": {},
     "output_type": "display_data"
    },
    {
     "name": "stdout",
     "output_type": "stream",
     "text": [
      "Epoch: 1  Train Loss: 1.0475  Train Acc: 45.6839  Valid Loss: 1.1293  Valid Acc: 39.1414\n",
      "Epoch: 2  Train Loss: 0.9496  Train Acc: 54.1833  Valid Loss: 1.0375  Valid Acc: 42.6768\n",
      "Epoch: 3  Train Loss: 0.7572  Train Acc: 67.5299  Valid Loss: 0.9712  Valid Acc: 48.7374\n",
      "Epoch: 4  Train Loss: 0.6082  Train Acc: 76.0956  Valid Loss: 0.8768  Valid Acc: 60.1010\n",
      "Epoch: 5  Train Loss: 0.4898  Train Acc: 80.0797  Valid Loss: 1.0751  Valid Acc: 59.0909\n",
      "Epoch: 6  Train Loss: 0.4701  Train Acc: 81.1421  Valid Loss: 0.8538  Valid Acc: 60.8586\n",
      "Epoch: 7  Train Loss: 0.4113  Train Acc: 83.7317  Valid Loss: 0.8523  Valid Acc: 62.8788\n",
      "Epoch: 8  Train Loss: 0.3685  Train Acc: 86.6534  Valid Loss: 0.8167  Valid Acc: 67.4242\n",
      "Epoch: 9  Train Loss: 0.4046  Train Acc: 84.5950  Valid Loss: 1.0560  Valid Acc: 55.8081\n",
      "Epoch: 10  Train Loss: 0.3355  Train Acc: 87.5166  Valid Loss: 0.9240  Valid Acc: 69.9495\n"
     ]
    }
   ],
   "source": [
    "# CNNSimpleDos con cannyfilter dataset\n",
    "# directorio para leer los datos\n",
    "data_dir = 'C:/Users/tian_/Desktop/Proyecto2/Data/cannyFilter'\n",
    "transform = transforms.Compose([\n",
    "    # convert the images to tensor shape\n",
    "    transforms.ToTensor(),\n",
    "    # Transformrs the images to 128 x 128, se hace porque no son constantes los tamaños\n",
    "    transforms.Resize((32, 32)),\n",
    "    # se normalizan los canales RGB la media y la deviacion stander en 0.5 cada canal\n",
    "    transforms.Normalize((0.5, 0.5, 0.5), (0.5, 0.5, 0.5))\n",
    "])\n",
    "# Data Loader carga del folder de training las imagenes y las etiqueta con el nombre del folder donde estan\n",
    "# en este caso Covid, Normal y Viral Pneumonia\n",
    "trainset = datasets.ImageFolder(os.path.join(data_dir, 'training_set'), transform=transform)\n",
    "testset = datasets.ImageFolder(os.path.join(data_dir, 'test_set'), transform=transform)\n",
    "#Iterable del dataset\n",
    "# probar con 32 or 64 for better results\n",
    "trainloader = DataLoader(trainset, batch_size=32, shuffle=True)\n",
    "#Iterable del dataset\n",
    "testloader = DataLoader(testset, batch_size=32, shuffle=False)\n",
    "# se encuenta el numero de ejemplos, el numero de batch preselecionado y se calculan el total de numero de batceh por epoca\n",
    "total_samples = len(trainloader.dataset)\n",
    "batch_size = trainloader.batch_size\n",
    "num_batches_per_epoch = math.ceil(total_samples / batch_size)\n",
    "\n",
    "print(\"Total samples:\", total_samples)\n",
    "print(\"Batch size:\", batch_size)\n",
    "print(\"Number of batches per epoch:\", num_batches_per_epoch)\n",
    "# Set your API key as an environment variable para wandb\n",
    "os.environ[\"WANDB_API_KEY\"] = \"ea93e82127178cd6709c03f277029a17909d3cbc\"\n",
    "wandb.login()\n",
    "\n",
    "# Hyperparametros de entrenamiento\n",
    "epochs = 10\n",
    "lr = 0.0005\n",
    "class_names = [\"Covid\", \"Normal\", \"Viral Pneumonia\"]\n",
    "\n",
    "# Parametros para inicializar Wandb\n",
    "run = wandb.init(\n",
    "    # Set the project where this run will be logged\n",
    "    project=\"Proyecto2\",\n",
    "    # Track hyperparameters and run metadata\n",
    "    config={\n",
    "        \"learning_rate\": lr,\n",
    "        \"epochs\": epochs,\n",
    "    },\n",
    ")\n",
    "\n",
    "#Se inicializa la red y se escoge la funcion de perdida y la de optimizacion\n",
    "network = CNNSimpleDos().to(device)\n",
    "criterion = nn.CrossEntropyLoss()\n",
    "optimizer = optim.Adam(network.parameters(), lr)\n",
    "\n",
    "# Log the network weight histograms (optional)\n",
    "wandb.watch(network, log=\"all\")\n",
    "\n",
    "\n",
    "start_time = time.time()\n",
    "for epoch in range(1, epochs+1):\n",
    "    \n",
    "    loss_train, acc_train = train(network,  criterion, optimizer, trainloader)\n",
    "    loss_valid, acc_valid,y_true,y_pred = validate(network,  criterion, testloader)\n",
    "    \n",
    "    print('Epoch: {}  Train Loss: {:.4f}  Train Acc: {:.4f}  Valid Loss: {:.4f}  Valid Acc: {:.4f}'.format(epoch, loss_train, acc_train, loss_valid, acc_valid))\n",
    "\n",
    "    # Logs en tiempo real de wandb\n",
    "    wandb.log({\n",
    "        \"Epoch\": epoch,\n",
    "        \"Train Loss\": loss_train,\n",
    "        \"Train Acc\": acc_train,\n",
    "        \"Valid Loss\": loss_valid,\n",
    "        \"Valid Acc\": acc_valid,\n",
    "        \"Elapsed time:\":time.time() - start_time})\n",
    "    \n",
    "    wandb.log({\"confusion_matrix\": wandb.plot.confusion_matrix(probs=None,\n",
    "                                                                y_true=y_true,\n",
    "                                                                preds=y_pred,\n",
    "                                                                class_names=class_names,\n",
    "                                                                title = \"Confusion Matrix\")},\n",
    "                                                                commit=False)\n",
    "    \n",
    "   "
   ]
  },
  {
   "cell_type": "code",
   "execution_count": 16,
   "metadata": {},
   "outputs": [
    {
     "name": "stderr",
     "output_type": "stream",
     "text": [
      "\u001b[34m\u001b[1mwandb\u001b[0m: \u001b[33mWARNING\u001b[0m Calling wandb.login() after wandb.init() has no effect.\n"
     ]
    },
    {
     "data": {
      "text/html": [
       "Finishing last run (ID:jjg0anom) before initializing another..."
      ],
      "text/plain": [
       "<IPython.core.display.HTML object>"
      ]
     },
     "metadata": {},
     "output_type": "display_data"
    },
    {
     "data": {
      "text/html": [
       "<style>\n",
       "    table.wandb td:nth-child(1) { padding: 0 10px; text-align: left ; width: auto;} td:nth-child(2) {text-align: left ; width: 100%}\n",
       "    .wandb-row { display: flex; flex-direction: row; flex-wrap: wrap; justify-content: flex-start; width: 100% }\n",
       "    .wandb-col { display: flex; flex-direction: column; flex-basis: 100%; flex: 1; padding: 10px; }\n",
       "    </style>\n",
       "<div class=\"wandb-row\"><div class=\"wandb-col\"><h3>Run history:</h3><br/><table class=\"wandb\"><tr><td>Elapsed time:</td><td>▁▂▂▃▄▄▅▆▇█</td></tr><tr><td>Epoch</td><td>▁▂▃▃▄▅▆▆▇█</td></tr><tr><td>Train Acc</td><td>▁▂▅▆▇▇▇███</td></tr><tr><td>Train Loss</td><td>█▇▅▄▃▂▂▁▂▁</td></tr><tr><td>Valid Acc</td><td>▁▂▃▆▆▆▆▇▅█</td></tr><tr><td>Valid Loss</td><td>█▆▄▂▇▂▂▁▆▃</td></tr></table><br/></div><div class=\"wandb-col\"><h3>Run summary:</h3><br/><table class=\"wandb\"><tr><td>Elapsed time:</td><td>1017.93404</td></tr><tr><td>Epoch</td><td>10</td></tr><tr><td>Train Acc</td><td>87.5166</td></tr><tr><td>Train Loss</td><td>0.33553</td></tr><tr><td>Valid Acc</td><td>69.94949</td></tr><tr><td>Valid Loss</td><td>0.92404</td></tr></table><br/></div></div>"
      ],
      "text/plain": [
       "<IPython.core.display.HTML object>"
      ]
     },
     "metadata": {},
     "output_type": "display_data"
    },
    {
     "data": {
      "text/html": [
       " View run <strong style=\"color:#cdcd00\">clone-council-3</strong> at: <a href='https://wandb.ai/sebas1498/Proyecto2/runs/jjg0anom/workspace' target=\"_blank\">https://wandb.ai/sebas1498/Proyecto2/runs/jjg0anom/workspace</a><br/>Synced 5 W&B file(s), 10 media file(s), 10 artifact file(s) and 0 other file(s)"
      ],
      "text/plain": [
       "<IPython.core.display.HTML object>"
      ]
     },
     "metadata": {},
     "output_type": "display_data"
    },
    {
     "data": {
      "text/html": [
       "Find logs at: <code>.\\wandb\\run-20240505_160116-jjg0anom\\logs</code>"
      ],
      "text/plain": [
       "<IPython.core.display.HTML object>"
      ]
     },
     "metadata": {},
     "output_type": "display_data"
    },
    {
     "data": {
      "text/html": [
       "Successfully finished last run (ID:jjg0anom). Initializing new run:<br/>"
      ],
      "text/plain": [
       "<IPython.core.display.HTML object>"
      ]
     },
     "metadata": {},
     "output_type": "display_data"
    },
    {
     "data": {
      "text/html": [
       "wandb version 0.16.6 is available!  To upgrade, please run:\n",
       " $ pip install wandb --upgrade"
      ],
      "text/plain": [
       "<IPython.core.display.HTML object>"
      ]
     },
     "metadata": {},
     "output_type": "display_data"
    },
    {
     "data": {
      "text/html": [
       "Tracking run with wandb version 0.16.5"
      ],
      "text/plain": [
       "<IPython.core.display.HTML object>"
      ]
     },
     "metadata": {},
     "output_type": "display_data"
    },
    {
     "data": {
      "text/html": [
       "Run data is saved locally in <code>c:\\Users\\tian_\\Desktop\\Proyecto2\\wandb\\run-20240505_161852-67ynxxpd</code>"
      ],
      "text/plain": [
       "<IPython.core.display.HTML object>"
      ]
     },
     "metadata": {},
     "output_type": "display_data"
    },
    {
     "data": {
      "text/html": [
       "Syncing run <strong><a href='https://wandb.ai/sebas1498/Proyecto2/runs/67ynxxpd/workspace' target=\"_blank\">rogue-shuttle-4</a></strong> to <a href='https://wandb.ai/sebas1498/Proyecto2' target=\"_blank\">Weights & Biases</a> (<a href='https://wandb.me/run' target=\"_blank\">docs</a>)<br/>"
      ],
      "text/plain": [
       "<IPython.core.display.HTML object>"
      ]
     },
     "metadata": {},
     "output_type": "display_data"
    },
    {
     "data": {
      "text/html": [
       " View project at <a href='https://wandb.ai/sebas1498/Proyecto2' target=\"_blank\">https://wandb.ai/sebas1498/Proyecto2</a>"
      ],
      "text/plain": [
       "<IPython.core.display.HTML object>"
      ]
     },
     "metadata": {},
     "output_type": "display_data"
    },
    {
     "data": {
      "text/html": [
       " View run at <a href='https://wandb.ai/sebas1498/Proyecto2/runs/67ynxxpd/workspace' target=\"_blank\">https://wandb.ai/sebas1498/Proyecto2/runs/67ynxxpd/workspace</a>"
      ],
      "text/plain": [
       "<IPython.core.display.HTML object>"
      ]
     },
     "metadata": {},
     "output_type": "display_data"
    },
    {
     "name": "stdout",
     "output_type": "stream",
     "text": [
      "Epoch: 1  Train Loss: 0.5071  Train Acc: 78.8181  Valid Loss: 0.6411  Valid Acc: 77.5253\n",
      "Epoch: 2  Train Loss: 0.2728  Train Acc: 89.6414  Valid Loss: 0.4703  Valid Acc: 78.0303\n",
      "Epoch: 3  Train Loss: 0.2348  Train Acc: 90.8367  Valid Loss: 0.5099  Valid Acc: 84.0909\n",
      "Epoch: 4  Train Loss: 0.1548  Train Acc: 94.2895  Valid Loss: 0.4824  Valid Acc: 86.1111\n",
      "Epoch: 5  Train Loss: 0.0972  Train Acc: 96.6799  Valid Loss: 0.6659  Valid Acc: 81.5657\n",
      "Epoch: 6  Train Loss: 0.0862  Train Acc: 96.8127  Valid Loss: 0.4378  Valid Acc: 84.0909\n",
      "Epoch: 7  Train Loss: 0.0587  Train Acc: 98.0080  Valid Loss: 0.4822  Valid Acc: 86.3636\n",
      "Epoch: 8  Train Loss: 0.0693  Train Acc: 97.5432  Valid Loss: 0.5106  Valid Acc: 83.8384\n",
      "Epoch: 9  Train Loss: 0.0450  Train Acc: 98.5392  Valid Loss: 0.5612  Valid Acc: 86.3636\n",
      "Epoch: 10  Train Loss: 0.0304  Train Acc: 99.1368  Valid Loss: 0.6087  Valid Acc: 85.8586\n"
     ]
    }
   ],
   "source": [
    "# CNNSimpleDos con bilateralFilter dataset\n",
    "# directorio para leer los datos\n",
    "data_dir = 'C:/Users/tian_/Desktop/Proyecto2/Data/bilateralFilter'\n",
    "transform = transforms.Compose([\n",
    "    # convert the images to tensor shape\n",
    "    transforms.ToTensor(),\n",
    "    # Transformrs the images to 128 x 128, se hace porque no son constantes los tamaños\n",
    "    transforms.Resize((32, 32)),\n",
    "    # se normalizan los canales RGB la media y la deviacion stander en 0.5 cada canal\n",
    "    transforms.Normalize((0.5, 0.5, 0.5), (0.5, 0.5, 0.5))\n",
    "])\n",
    "# Data Loader carga del folder de training las imagenes y las etiqueta con el nombre del folder donde estan\n",
    "# en este caso Covid, Normal y Viral Pneumonia\n",
    "trainset = datasets.ImageFolder(os.path.join(data_dir, 'training_set'), transform=transform)\n",
    "testset = datasets.ImageFolder(os.path.join(data_dir, 'test_set'), transform=transform)\n",
    "#Iterable del dataset\n",
    "# probar con 32 or 64 for better results\n",
    "trainloader = DataLoader(trainset, batch_size=32, shuffle=True)\n",
    "#Iterable del dataset\n",
    "testloader = DataLoader(testset, batch_size=32, shuffle=False)\n",
    "# se encuenta el numero de ejemplos, el numero de batch preselecionado y se calculan el total de numero de batceh por epoca\n",
    "total_samples = len(trainloader.dataset)\n",
    "batch_size = trainloader.batch_size\n",
    "num_batches_per_epoch = math.ceil(total_samples / batch_size)\n",
    "\n",
    "print(\"Total samples:\", total_samples)\n",
    "print(\"Batch size:\", batch_size)\n",
    "print(\"Number of batches per epoch:\", num_batches_per_epoch)\n",
    "# Set your API key as an environment variable para wandb\n",
    "os.environ[\"WANDB_API_KEY\"] = \"ea93e82127178cd6709c03f277029a17909d3cbc\"\n",
    "wandb.login()\n",
    "\n",
    "# Hyperparametros de entrenamiento\n",
    "epochs = 10\n",
    "lr = 0.0005\n",
    "class_names = [\"Covid\", \"Normal\", \"Viral Pneumonia\"]\n",
    "\n",
    "# Parametros para inicializar Wandb\n",
    "run = wandb.init(\n",
    "    # Set the project where this run will be logged\n",
    "    project=\"Proyecto2\",\n",
    "    # Track hyperparameters and run metadata\n",
    "    config={\n",
    "        \"learning_rate\": lr,\n",
    "        \"epochs\": epochs,\n",
    "    },\n",
    ")\n",
    "\n",
    "#Se inicializa la red y se escoge la funcion de perdida y la de optimizacion\n",
    "network = CNNSimpleDos().to(device)\n",
    "criterion = nn.CrossEntropyLoss()\n",
    "optimizer = optim.Adam(network.parameters(), lr)\n",
    "\n",
    "# Log the network weight histograms (optional)\n",
    "wandb.watch(network, log=\"all\")\n",
    "start_time = time.time()\n",
    "for epoch in range(1, epochs+1):\n",
    "    \n",
    "    loss_train, acc_train = train(network,  criterion, optimizer, trainloader)\n",
    "    loss_valid, acc_valid,y_true,y_pred = validate(network,  criterion, testloader)\n",
    "    \n",
    "    print('Epoch: {}  Train Loss: {:.4f}  Train Acc: {:.4f}  Valid Loss: {:.4f}  Valid Acc: {:.4f}'.format(epoch, loss_train, acc_train, loss_valid, acc_valid))\n",
    "\n",
    "    # Logs en tiempo real de wandb\n",
    "    wandb.log({\n",
    "        \"Epoch\": epoch,\n",
    "        \"Train Loss\": loss_train,\n",
    "        \"Train Acc\": acc_train,\n",
    "        \"Valid Loss\": loss_valid,\n",
    "        \"Valid Acc\": acc_valid,\n",
    "        \"Elapsed time:\":time.time() - start_time})\n",
    "    \n",
    "    wandb.log({\"confusion_matrix\": wandb.plot.confusion_matrix(probs=None,\n",
    "                                                                y_true=y_true,\n",
    "                                                                preds=y_pred,\n",
    "                                                                class_names=class_names,\n",
    "                                                                title = \"Confusion Matrix\")},\n",
    "                                                                commit=False)"
   ]
  },
  {
   "cell_type": "code",
   "execution_count": 20,
   "metadata": {},
   "outputs": [
    {
     "name": "stderr",
     "output_type": "stream",
     "text": [
      "\u001b[34m\u001b[1mwandb\u001b[0m: \u001b[33mWARNING\u001b[0m Calling wandb.login() after wandb.init() has no effect.\n"
     ]
    },
    {
     "name": "stdout",
     "output_type": "stream",
     "text": [
      "Total samples: 1506\n",
      "Batch size: 32\n",
      "Number of batches per epoch: 48\n"
     ]
    },
    {
     "data": {
      "text/html": [
       "Finishing last run (ID:67ynxxpd) before initializing another..."
      ],
      "text/plain": [
       "<IPython.core.display.HTML object>"
      ]
     },
     "metadata": {},
     "output_type": "display_data"
    },
    {
     "data": {
      "text/html": [
       "<style>\n",
       "    table.wandb td:nth-child(1) { padding: 0 10px; text-align: left ; width: auto;} td:nth-child(2) {text-align: left ; width: 100%}\n",
       "    .wandb-row { display: flex; flex-direction: row; flex-wrap: wrap; justify-content: flex-start; width: 100% }\n",
       "    .wandb-col { display: flex; flex-direction: column; flex-basis: 100%; flex: 1; padding: 10px; }\n",
       "    </style>\n",
       "<div class=\"wandb-row\"><div class=\"wandb-col\"><h3>Run history:</h3><br/><table class=\"wandb\"><tr><td>Elapsed time:</td><td>▁▂▃▃▄▅▆▆▇█</td></tr><tr><td>Epoch</td><td>▁▂▃▃▄▅▆▆▇█</td></tr><tr><td>Train Acc</td><td>▁▅▅▆▇▇█▇██</td></tr><tr><td>Train Loss</td><td>█▅▄▃▂▂▁▂▁▁</td></tr><tr><td>Valid Acc</td><td>▁▁▆█▄▆█▆██</td></tr><tr><td>Valid Loss</td><td>▇▂▃▂█▁▂▃▅▆</td></tr></table><br/></div><div class=\"wandb-col\"><h3>Run summary:</h3><br/><table class=\"wandb\"><tr><td>Elapsed time:</td><td>781.98618</td></tr><tr><td>Epoch</td><td>10</td></tr><tr><td>Train Acc</td><td>99.13679</td></tr><tr><td>Train Loss</td><td>0.03041</td></tr><tr><td>Valid Acc</td><td>85.85859</td></tr><tr><td>Valid Loss</td><td>0.60871</td></tr></table><br/></div></div>"
      ],
      "text/plain": [
       "<IPython.core.display.HTML object>"
      ]
     },
     "metadata": {},
     "output_type": "display_data"
    },
    {
     "data": {
      "text/html": [
       " View run <strong style=\"color:#cdcd00\">rogue-shuttle-4</strong> at: <a href='https://wandb.ai/sebas1498/Proyecto2/runs/67ynxxpd/workspace' target=\"_blank\">https://wandb.ai/sebas1498/Proyecto2/runs/67ynxxpd/workspace</a><br/>Synced 5 W&B file(s), 10 media file(s), 10 artifact file(s) and 0 other file(s)"
      ],
      "text/plain": [
       "<IPython.core.display.HTML object>"
      ]
     },
     "metadata": {},
     "output_type": "display_data"
    },
    {
     "data": {
      "text/html": [
       "Find logs at: <code>.\\wandb\\run-20240505_161852-67ynxxpd\\logs</code>"
      ],
      "text/plain": [
       "<IPython.core.display.HTML object>"
      ]
     },
     "metadata": {},
     "output_type": "display_data"
    },
    {
     "data": {
      "text/html": [
       "Successfully finished last run (ID:67ynxxpd). Initializing new run:<br/>"
      ],
      "text/plain": [
       "<IPython.core.display.HTML object>"
      ]
     },
     "metadata": {},
     "output_type": "display_data"
    },
    {
     "data": {
      "text/html": [
       "wandb version 0.16.6 is available!  To upgrade, please run:\n",
       " $ pip install wandb --upgrade"
      ],
      "text/plain": [
       "<IPython.core.display.HTML object>"
      ]
     },
     "metadata": {},
     "output_type": "display_data"
    },
    {
     "data": {
      "text/html": [
       "Tracking run with wandb version 0.16.5"
      ],
      "text/plain": [
       "<IPython.core.display.HTML object>"
      ]
     },
     "metadata": {},
     "output_type": "display_data"
    },
    {
     "data": {
      "text/html": [
       "Run data is saved locally in <code>c:\\Users\\tian_\\Desktop\\Proyecto2\\wandb\\run-20240505_163249-fvacf6n8</code>"
      ],
      "text/plain": [
       "<IPython.core.display.HTML object>"
      ]
     },
     "metadata": {},
     "output_type": "display_data"
    },
    {
     "data": {
      "text/html": [
       "Syncing run <strong><a href='https://wandb.ai/sebas1498/Proyecto2/runs/fvacf6n8/workspace' target=\"_blank\">galactic-midichlorian-5</a></strong> to <a href='https://wandb.ai/sebas1498/Proyecto2' target=\"_blank\">Weights & Biases</a> (<a href='https://wandb.me/run' target=\"_blank\">docs</a>)<br/>"
      ],
      "text/plain": [
       "<IPython.core.display.HTML object>"
      ]
     },
     "metadata": {},
     "output_type": "display_data"
    },
    {
     "data": {
      "text/html": [
       " View project at <a href='https://wandb.ai/sebas1498/Proyecto2' target=\"_blank\">https://wandb.ai/sebas1498/Proyecto2</a>"
      ],
      "text/plain": [
       "<IPython.core.display.HTML object>"
      ]
     },
     "metadata": {},
     "output_type": "display_data"
    },
    {
     "data": {
      "text/html": [
       " View run at <a href='https://wandb.ai/sebas1498/Proyecto2/runs/fvacf6n8/workspace' target=\"_blank\">https://wandb.ai/sebas1498/Proyecto2/runs/fvacf6n8/workspace</a>"
      ],
      "text/plain": [
       "<IPython.core.display.HTML object>"
      ]
     },
     "metadata": {},
     "output_type": "display_data"
    },
    {
     "name": "stderr",
     "output_type": "stream",
     "text": [
      "c:\\Users\\tian_\\AppData\\Local\\anaconda3\\envs\\Pytorch_env\\Lib\\site-packages\\torch\\autograd\\graph.py:744: UserWarning: Plan failed with a cudnnException: CUDNN_BACKEND_EXECUTION_PLAN_DESCRIPTOR: cudnnFinalize Descriptor Failed cudnn_status: CUDNN_STATUS_NOT_SUPPORTED (Triggered internally at C:\\cb\\pytorch_1000000000000\\work\\aten\\src\\ATen\\native\\cudnn\\Conv_v8.cpp:919.)\n",
      "  return Variable._execution_engine.run_backward(  # Calls into the C++ engine to run the backward pass\n"
     ]
    },
    {
     "name": "stdout",
     "output_type": "stream",
     "text": [
      "Epoch: 1  Train Loss: 0.5942  Train Acc: 77.6228  Valid Loss: 0.5029  Valid Acc: 75.2525\n",
      "Epoch: 2  Train Loss: 0.3351  Train Acc: 86.3214  Valid Loss: 0.5593  Valid Acc: 82.0707\n",
      "Epoch: 3  Train Loss: 0.2768  Train Acc: 88.5126  Valid Loss: 0.4849  Valid Acc: 79.7980\n",
      "Epoch: 4  Train Loss: 0.2124  Train Acc: 92.8287  Valid Loss: 0.4734  Valid Acc: 84.8485\n",
      "Epoch: 5  Train Loss: 0.2242  Train Acc: 90.5046  Valid Loss: 0.4330  Valid Acc: 82.8283\n",
      "Epoch: 6  Train Loss: 0.1882  Train Acc: 93.4927  Valid Loss: 0.5041  Valid Acc: 78.7879\n",
      "Epoch: 7  Train Loss: 0.2533  Train Acc: 89.9070  Valid Loss: 0.5014  Valid Acc: 79.7980\n",
      "Epoch: 8  Train Loss: 0.1526  Train Acc: 93.8911  Valid Loss: 0.5172  Valid Acc: 85.3535\n",
      "Epoch: 9  Train Loss: 0.1512  Train Acc: 94.6879  Valid Loss: 0.4693  Valid Acc: 81.0606\n",
      "Epoch: 10  Train Loss: 0.1396  Train Acc: 94.8207  Valid Loss: 0.5678  Valid Acc: 79.5455\n"
     ]
    }
   ],
   "source": [
    "# CNNSimpleDos con raw dataset\n",
    "# directorio para leer los datos\n",
    "data_dir = 'C:/Users/tian_/Desktop/Proyecto2/Data/raw'\n",
    "transform = transforms.Compose([\n",
    "    # convert the images to tensor shape\n",
    "    transforms.ToTensor(),\n",
    "    # Transformrs the images to 128 x 128, se hace porque no son constantes los tamaños\n",
    "    transforms.Resize((32, 32)),\n",
    "    # se normalizan los canales RGB la media y la deviacion stander en 0.5 cada canal\n",
    "    transforms.Normalize((0.5, 0.5, 0.5), (0.5, 0.5, 0.5))\n",
    "])\n",
    "# Data Loader carga del folder de training las imagenes y las etiqueta con el nombre del folder donde estan\n",
    "# en este caso Covid, Normal y Viral Pneumonia\n",
    "trainset = datasets.ImageFolder(os.path.join(data_dir, 'training_set'), transform=transform)\n",
    "testset = datasets.ImageFolder(os.path.join(data_dir, 'test_set'), transform=transform)\n",
    "#Iterable del dataset\n",
    "# probar con 32 or 64 for better results\n",
    "trainloader = DataLoader(trainset, batch_size=32, shuffle=True)\n",
    "#Iterable del dataset\n",
    "testloader = DataLoader(testset, batch_size=32, shuffle=False)\n",
    "# se encuenta el numero de ejemplos, el numero de batch preselecionado y se calculan el total de numero de batceh por epoca\n",
    "total_samples = len(trainloader.dataset)\n",
    "batch_size = trainloader.batch_size\n",
    "num_batches_per_epoch = math.ceil(total_samples / batch_size)\n",
    "\n",
    "print(\"Total samples:\", total_samples)\n",
    "print(\"Batch size:\", batch_size)\n",
    "print(\"Number of batches per epoch:\", num_batches_per_epoch)\n",
    "# Set your API key as an environment variable para wandb\n",
    "os.environ[\"WANDB_API_KEY\"] = \"ea93e82127178cd6709c03f277029a17909d3cbc\"\n",
    "wandb.login()\n",
    "\n",
    "# Hyperparametros de entrenamiento\n",
    "epochs = 10\n",
    "lr = 0.0005\n",
    "class_names = [\"Covid\", \"Normal\", \"Viral Pneumonia\"]\n",
    "\n",
    "# Parametros para inicializar Wandb\n",
    "run = wandb.init(\n",
    "    # Set the project where this run will be logged\n",
    "    project=\"Proyecto2\",\n",
    "    # Track hyperparameters and run metadata\n",
    "    config={\n",
    "        \"learning_rate\": lr,\n",
    "        \"epochs\": epochs,\n",
    "    },\n",
    ")\n",
    "\n",
    "#Se inicializa la red y se escoge la funcion de perdida y la de optimizacion\n",
    "network = CNNSimpleUno().to(device)\n",
    "criterion = nn.CrossEntropyLoss()\n",
    "optimizer = optim.Adam(network.parameters(), lr)\n",
    "\n",
    "# Log the network weight histograms (optional)\n",
    "wandb.watch(network, log=\"all\")\n",
    "start_time = time.time()\n",
    "for epoch in range(1, epochs+1):\n",
    "    \n",
    "    loss_train, acc_train = train(network,  criterion, optimizer, trainloader)\n",
    "    loss_valid, acc_valid,y_true,y_pred = validate(network,  criterion, testloader)\n",
    "    \n",
    "    print('Epoch: {}  Train Loss: {:.4f}  Train Acc: {:.4f}  Valid Loss: {:.4f}  Valid Acc: {:.4f}'.format(epoch, loss_train, acc_train, loss_valid, acc_valid))\n",
    "\n",
    "    # Logs en tiempo real de wandb\n",
    "    wandb.log({\n",
    "        \"Epoch\": epoch,\n",
    "        \"Train Loss\": loss_train,\n",
    "        \"Train Acc\": acc_train,\n",
    "        \"Valid Loss\": loss_valid,\n",
    "        \"Valid Acc\": acc_valid,\n",
    "        \"Elapsed time:\":time.time() - start_time})\n",
    "    \n",
    "    wandb.log({\"confusion_matrix\": wandb.plot.confusion_matrix(probs=None,\n",
    "                                                                y_true=y_true,\n",
    "                                                                preds=y_pred,\n",
    "                                                                class_names=class_names,\n",
    "                                                                title = \"Confusion Matrix\")},\n",
    "                                                                commit=False)"
   ]
  },
  {
   "cell_type": "code",
   "execution_count": 21,
   "metadata": {},
   "outputs": [
    {
     "name": "stderr",
     "output_type": "stream",
     "text": [
      "\u001b[34m\u001b[1mwandb\u001b[0m: \u001b[33mWARNING\u001b[0m Calling wandb.login() after wandb.init() has no effect.\n"
     ]
    },
    {
     "name": "stdout",
     "output_type": "stream",
     "text": [
      "Total samples: 1506\n",
      "Batch size: 32\n",
      "Number of batches per epoch: 48\n"
     ]
    },
    {
     "data": {
      "text/html": [
       "Finishing last run (ID:fvacf6n8) before initializing another..."
      ],
      "text/plain": [
       "<IPython.core.display.HTML object>"
      ]
     },
     "metadata": {},
     "output_type": "display_data"
    },
    {
     "data": {
      "text/html": [
       "<style>\n",
       "    table.wandb td:nth-child(1) { padding: 0 10px; text-align: left ; width: auto;} td:nth-child(2) {text-align: left ; width: 100%}\n",
       "    .wandb-row { display: flex; flex-direction: row; flex-wrap: wrap; justify-content: flex-start; width: 100% }\n",
       "    .wandb-col { display: flex; flex-direction: column; flex-basis: 100%; flex: 1; padding: 10px; }\n",
       "    </style>\n",
       "<div class=\"wandb-row\"><div class=\"wandb-col\"><h3>Run history:</h3><br/><table class=\"wandb\"><tr><td>Elapsed time:</td><td>▁▂▃▃▄▅▆▆▇█</td></tr><tr><td>Epoch</td><td>▁▂▃▃▄▅▆▆▇█</td></tr><tr><td>Train Acc</td><td>▁▅▅▇▆▇▆███</td></tr><tr><td>Train Loss</td><td>█▄▃▂▂▂▃▁▁▁</td></tr><tr><td>Valid Acc</td><td>▁▆▄█▆▃▄█▅▄</td></tr><tr><td>Valid Loss</td><td>▅█▄▃▁▅▅▅▃█</td></tr></table><br/></div><div class=\"wandb-col\"><h3>Run summary:</h3><br/><table class=\"wandb\"><tr><td>Elapsed time:</td><td>872.10172</td></tr><tr><td>Epoch</td><td>10</td></tr><tr><td>Train Acc</td><td>94.82072</td></tr><tr><td>Train Loss</td><td>0.1396</td></tr><tr><td>Valid Acc</td><td>79.54545</td></tr><tr><td>Valid Loss</td><td>0.56776</td></tr></table><br/></div></div>"
      ],
      "text/plain": [
       "<IPython.core.display.HTML object>"
      ]
     },
     "metadata": {},
     "output_type": "display_data"
    },
    {
     "data": {
      "text/html": [
       " View run <strong style=\"color:#cdcd00\">galactic-midichlorian-5</strong> at: <a href='https://wandb.ai/sebas1498/Proyecto2/runs/fvacf6n8/workspace' target=\"_blank\">https://wandb.ai/sebas1498/Proyecto2/runs/fvacf6n8/workspace</a><br/>Synced 5 W&B file(s), 10 media file(s), 10 artifact file(s) and 0 other file(s)"
      ],
      "text/plain": [
       "<IPython.core.display.HTML object>"
      ]
     },
     "metadata": {},
     "output_type": "display_data"
    },
    {
     "data": {
      "text/html": [
       "Find logs at: <code>.\\wandb\\run-20240505_163249-fvacf6n8\\logs</code>"
      ],
      "text/plain": [
       "<IPython.core.display.HTML object>"
      ]
     },
     "metadata": {},
     "output_type": "display_data"
    },
    {
     "data": {
      "text/html": [
       "Successfully finished last run (ID:fvacf6n8). Initializing new run:<br/>"
      ],
      "text/plain": [
       "<IPython.core.display.HTML object>"
      ]
     },
     "metadata": {},
     "output_type": "display_data"
    },
    {
     "data": {
      "text/html": [
       "wandb version 0.16.6 is available!  To upgrade, please run:\n",
       " $ pip install wandb --upgrade"
      ],
      "text/plain": [
       "<IPython.core.display.HTML object>"
      ]
     },
     "metadata": {},
     "output_type": "display_data"
    },
    {
     "data": {
      "text/html": [
       "Tracking run with wandb version 0.16.5"
      ],
      "text/plain": [
       "<IPython.core.display.HTML object>"
      ]
     },
     "metadata": {},
     "output_type": "display_data"
    },
    {
     "data": {
      "text/html": [
       "Run data is saved locally in <code>c:\\Users\\tian_\\Desktop\\Proyecto2\\wandb\\run-20240505_164758-rvss84ij</code>"
      ],
      "text/plain": [
       "<IPython.core.display.HTML object>"
      ]
     },
     "metadata": {},
     "output_type": "display_data"
    },
    {
     "data": {
      "text/html": [
       "Syncing run <strong><a href='https://wandb.ai/sebas1498/Proyecto2/runs/rvss84ij/workspace' target=\"_blank\">imperial-lightsaber-6</a></strong> to <a href='https://wandb.ai/sebas1498/Proyecto2' target=\"_blank\">Weights & Biases</a> (<a href='https://wandb.me/run' target=\"_blank\">docs</a>)<br/>"
      ],
      "text/plain": [
       "<IPython.core.display.HTML object>"
      ]
     },
     "metadata": {},
     "output_type": "display_data"
    },
    {
     "data": {
      "text/html": [
       " View project at <a href='https://wandb.ai/sebas1498/Proyecto2' target=\"_blank\">https://wandb.ai/sebas1498/Proyecto2</a>"
      ],
      "text/plain": [
       "<IPython.core.display.HTML object>"
      ]
     },
     "metadata": {},
     "output_type": "display_data"
    },
    {
     "data": {
      "text/html": [
       " View run at <a href='https://wandb.ai/sebas1498/Proyecto2/runs/rvss84ij/workspace' target=\"_blank\">https://wandb.ai/sebas1498/Proyecto2/runs/rvss84ij/workspace</a>"
      ],
      "text/plain": [
       "<IPython.core.display.HTML object>"
      ]
     },
     "metadata": {},
     "output_type": "display_data"
    },
    {
     "name": "stdout",
     "output_type": "stream",
     "text": [
      "Epoch: 1  Train Loss: 0.9331  Train Acc: 56.9721  Valid Loss: 0.9962  Valid Acc: 47.2222\n",
      "Epoch: 2  Train Loss: 0.7875  Train Acc: 66.7995  Valid Loss: 0.8953  Valid Acc: 53.0303\n",
      "Epoch: 3  Train Loss: 0.6634  Train Acc: 73.5724  Valid Loss: 0.8032  Valid Acc: 57.5758\n",
      "Epoch: 4  Train Loss: 0.6087  Train Acc: 76.3612  Valid Loss: 0.7110  Valid Acc: 65.6566\n",
      "Epoch: 5  Train Loss: 0.5624  Train Acc: 77.1580  Valid Loss: 0.6773  Valid Acc: 69.1919\n",
      "Epoch: 6  Train Loss: 0.5395  Train Acc: 78.9509  Valid Loss: 0.6339  Valid Acc: 69.4444\n",
      "Epoch: 7  Train Loss: 0.4662  Train Acc: 81.4741  Valid Loss: 0.6568  Valid Acc: 69.6970\n",
      "Epoch: 8  Train Loss: 0.4502  Train Acc: 81.4077  Valid Loss: 0.6955  Valid Acc: 67.4242\n",
      "Epoch: 9  Train Loss: 0.4387  Train Acc: 83.0013  Valid Loss: 0.6150  Valid Acc: 67.1717\n",
      "Epoch: 10  Train Loss: 0.4302  Train Acc: 82.6693  Valid Loss: 0.5534  Valid Acc: 75.2525\n"
     ]
    }
   ],
   "source": [
    "# CNNSimpleDos con cannyFilter dataset\n",
    "# directorio para leer los datos\n",
    "data_dir = 'C:/Users/tian_/Desktop/Proyecto2/Data/cannyFilter'\n",
    "transform = transforms.Compose([\n",
    "    # convert the images to tensor shape\n",
    "    transforms.ToTensor(),\n",
    "    # Transformrs the images to 128 x 128, se hace porque no son constantes los tamaños\n",
    "    transforms.Resize((32, 32)),\n",
    "    # se normalizan los canales RGB la media y la deviacion stander en 0.5 cada canal\n",
    "    transforms.Normalize((0.5, 0.5, 0.5), (0.5, 0.5, 0.5))\n",
    "])\n",
    "# Data Loader carga del folder de training las imagenes y las etiqueta con el nombre del folder donde estan\n",
    "# en este caso Covid, Normal y Viral Pneumonia\n",
    "trainset = datasets.ImageFolder(os.path.join(data_dir, 'training_set'), transform=transform)\n",
    "testset = datasets.ImageFolder(os.path.join(data_dir, 'test_set'), transform=transform)\n",
    "#Iterable del dataset\n",
    "# probar con 32 or 64 for better results\n",
    "trainloader = DataLoader(trainset, batch_size=32, shuffle=True)\n",
    "#Iterable del dataset\n",
    "testloader = DataLoader(testset, batch_size=32, shuffle=False)\n",
    "# se encuenta el numero de ejemplos, el numero de batch preselecionado y se calculan el total de numero de batceh por epoca\n",
    "total_samples = len(trainloader.dataset)\n",
    "batch_size = trainloader.batch_size\n",
    "num_batches_per_epoch = math.ceil(total_samples / batch_size)\n",
    "\n",
    "print(\"Total samples:\", total_samples)\n",
    "print(\"Batch size:\", batch_size)\n",
    "print(\"Number of batches per epoch:\", num_batches_per_epoch)\n",
    "# Set your API key as an environment variable para wandb\n",
    "os.environ[\"WANDB_API_KEY\"] = \"ea93e82127178cd6709c03f277029a17909d3cbc\"\n",
    "wandb.login()\n",
    "\n",
    "# Hyperparametros de entrenamiento\n",
    "epochs = 10\n",
    "lr = 0.0005\n",
    "class_names = [\"Covid\", \"Normal\", \"Viral Pneumonia\"]\n",
    "\n",
    "# Parametros para inicializar Wandb\n",
    "run = wandb.init(\n",
    "    # Set the project where this run will be logged\n",
    "    project=\"Proyecto2\",\n",
    "    # Track hyperparameters and run metadata\n",
    "    config={\n",
    "        \"learning_rate\": lr,\n",
    "        \"epochs\": epochs,\n",
    "    },\n",
    ")\n",
    "\n",
    "#Se inicializa la red y se escoge la funcion de perdida y la de optimizacion\n",
    "network = CNNSimpleUno().to(device)\n",
    "criterion = nn.CrossEntropyLoss()\n",
    "optimizer = optim.Adam(network.parameters(), lr)\n",
    "\n",
    "# Log the network weight histograms (optional)\n",
    "wandb.watch(network, log=\"all\")\n",
    "start_time = time.time()\n",
    "for epoch in range(1, epochs+1):\n",
    "    \n",
    "    loss_train, acc_train = train(network,  criterion, optimizer, trainloader)\n",
    "    loss_valid, acc_valid,y_true,y_pred = validate(network,  criterion, testloader)\n",
    "    \n",
    "    print('Epoch: {}  Train Loss: {:.4f}  Train Acc: {:.4f}  Valid Loss: {:.4f}  Valid Acc: {:.4f}'.format(epoch, loss_train, acc_train, loss_valid, acc_valid))\n",
    "\n",
    "    # Logs en tiempo real de wandb\n",
    "    wandb.log({\n",
    "        \"Epoch\": epoch,\n",
    "        \"Train Loss\": loss_train,\n",
    "        \"Train Acc\": acc_train,\n",
    "        \"Valid Loss\": loss_valid,\n",
    "        \"Valid Acc\": acc_valid,\n",
    "        \"Elapsed time:\":time.time() - start_time})\n",
    "    \n",
    "    wandb.log({\"confusion_matrix\": wandb.plot.confusion_matrix(probs=None,\n",
    "                                                                y_true=y_true,\n",
    "                                                                preds=y_pred,\n",
    "                                                                class_names=class_names,\n",
    "                                                                title = \"Confusion Matrix\")},\n",
    "                                                                commit=False)"
   ]
  },
  {
   "cell_type": "code",
   "execution_count": 22,
   "metadata": {},
   "outputs": [
    {
     "name": "stderr",
     "output_type": "stream",
     "text": [
      "\u001b[34m\u001b[1mwandb\u001b[0m: \u001b[33mWARNING\u001b[0m Calling wandb.login() after wandb.init() has no effect.\n"
     ]
    },
    {
     "name": "stdout",
     "output_type": "stream",
     "text": [
      "Total samples: 1506\n",
      "Batch size: 32\n",
      "Number of batches per epoch: 48\n"
     ]
    },
    {
     "data": {
      "text/html": [
       "Finishing last run (ID:rvss84ij) before initializing another..."
      ],
      "text/plain": [
       "<IPython.core.display.HTML object>"
      ]
     },
     "metadata": {},
     "output_type": "display_data"
    },
    {
     "data": {
      "text/html": [
       "<style>\n",
       "    table.wandb td:nth-child(1) { padding: 0 10px; text-align: left ; width: auto;} td:nth-child(2) {text-align: left ; width: 100%}\n",
       "    .wandb-row { display: flex; flex-direction: row; flex-wrap: wrap; justify-content: flex-start; width: 100% }\n",
       "    .wandb-col { display: flex; flex-direction: column; flex-basis: 100%; flex: 1; padding: 10px; }\n",
       "    </style>\n",
       "<div class=\"wandb-row\"><div class=\"wandb-col\"><h3>Run history:</h3><br/><table class=\"wandb\"><tr><td>Elapsed time:</td><td>▁▂▃▃▄▅▆▆▇█</td></tr><tr><td>Epoch</td><td>▁▂▃▃▄▅▆▆▇█</td></tr><tr><td>Train Acc</td><td>▁▄▅▆▆▇████</td></tr><tr><td>Train Loss</td><td>█▆▄▃▃▃▂▁▁▁</td></tr><tr><td>Valid Acc</td><td>▁▂▄▆▆▇▇▆▆█</td></tr><tr><td>Valid Loss</td><td>█▆▅▃▃▂▃▃▂▁</td></tr></table><br/></div><div class=\"wandb-col\"><h3>Run summary:</h3><br/><table class=\"wandb\"><tr><td>Elapsed time:</td><td>901.52208</td></tr><tr><td>Epoch</td><td>10</td></tr><tr><td>Train Acc</td><td>82.66932</td></tr><tr><td>Train Loss</td><td>0.43021</td></tr><tr><td>Valid Acc</td><td>75.25253</td></tr><tr><td>Valid Loss</td><td>0.55339</td></tr></table><br/></div></div>"
      ],
      "text/plain": [
       "<IPython.core.display.HTML object>"
      ]
     },
     "metadata": {},
     "output_type": "display_data"
    },
    {
     "data": {
      "text/html": [
       " View run <strong style=\"color:#cdcd00\">imperial-lightsaber-6</strong> at: <a href='https://wandb.ai/sebas1498/Proyecto2/runs/rvss84ij/workspace' target=\"_blank\">https://wandb.ai/sebas1498/Proyecto2/runs/rvss84ij/workspace</a><br/>Synced 5 W&B file(s), 10 media file(s), 10 artifact file(s) and 0 other file(s)"
      ],
      "text/plain": [
       "<IPython.core.display.HTML object>"
      ]
     },
     "metadata": {},
     "output_type": "display_data"
    },
    {
     "data": {
      "text/html": [
       "Find logs at: <code>.\\wandb\\run-20240505_164758-rvss84ij\\logs</code>"
      ],
      "text/plain": [
       "<IPython.core.display.HTML object>"
      ]
     },
     "metadata": {},
     "output_type": "display_data"
    },
    {
     "data": {
      "text/html": [
       "Successfully finished last run (ID:rvss84ij). Initializing new run:<br/>"
      ],
      "text/plain": [
       "<IPython.core.display.HTML object>"
      ]
     },
     "metadata": {},
     "output_type": "display_data"
    },
    {
     "data": {
      "text/html": [
       "wandb version 0.16.6 is available!  To upgrade, please run:\n",
       " $ pip install wandb --upgrade"
      ],
      "text/plain": [
       "<IPython.core.display.HTML object>"
      ]
     },
     "metadata": {},
     "output_type": "display_data"
    },
    {
     "data": {
      "text/html": [
       "Tracking run with wandb version 0.16.5"
      ],
      "text/plain": [
       "<IPython.core.display.HTML object>"
      ]
     },
     "metadata": {},
     "output_type": "display_data"
    },
    {
     "data": {
      "text/html": [
       "Run data is saved locally in <code>c:\\Users\\tian_\\Desktop\\Proyecto2\\wandb\\run-20240505_170317-yq7lg1w6</code>"
      ],
      "text/plain": [
       "<IPython.core.display.HTML object>"
      ]
     },
     "metadata": {},
     "output_type": "display_data"
    },
    {
     "data": {
      "text/html": [
       "Syncing run <strong><a href='https://wandb.ai/sebas1498/Proyecto2/runs/yq7lg1w6/workspace' target=\"_blank\">forgotten-fleet-7</a></strong> to <a href='https://wandb.ai/sebas1498/Proyecto2' target=\"_blank\">Weights & Biases</a> (<a href='https://wandb.me/run' target=\"_blank\">docs</a>)<br/>"
      ],
      "text/plain": [
       "<IPython.core.display.HTML object>"
      ]
     },
     "metadata": {},
     "output_type": "display_data"
    },
    {
     "data": {
      "text/html": [
       " View project at <a href='https://wandb.ai/sebas1498/Proyecto2' target=\"_blank\">https://wandb.ai/sebas1498/Proyecto2</a>"
      ],
      "text/plain": [
       "<IPython.core.display.HTML object>"
      ]
     },
     "metadata": {},
     "output_type": "display_data"
    },
    {
     "data": {
      "text/html": [
       " View run at <a href='https://wandb.ai/sebas1498/Proyecto2/runs/yq7lg1w6/workspace' target=\"_blank\">https://wandb.ai/sebas1498/Proyecto2/runs/yq7lg1w6/workspace</a>"
      ],
      "text/plain": [
       "<IPython.core.display.HTML object>"
      ]
     },
     "metadata": {},
     "output_type": "display_data"
    },
    {
     "name": "stdout",
     "output_type": "stream",
     "text": [
      "Epoch: 1  Train Loss: 0.5958  Train Acc: 75.2324  Valid Loss: 0.5870  Valid Acc: 70.9596\n",
      "Epoch: 2  Train Loss: 0.3109  Train Acc: 88.3798  Valid Loss: 0.4547  Valid Acc: 80.8081\n",
      "Epoch: 3  Train Loss: 0.2417  Train Acc: 91.1023  Valid Loss: 0.4605  Valid Acc: 79.0404\n",
      "Epoch: 4  Train Loss: 0.1881  Train Acc: 92.7623  Valid Loss: 0.4962  Valid Acc: 79.7980\n",
      "Epoch: 5  Train Loss: 0.2166  Train Acc: 91.8991  Valid Loss: 0.6549  Valid Acc: 84.8485\n",
      "Epoch: 6  Train Loss: 0.1957  Train Acc: 92.4303  Valid Loss: 0.5001  Valid Acc: 83.3333\n",
      "Epoch: 7  Train Loss: 0.1472  Train Acc: 93.7583  Valid Loss: 0.5176  Valid Acc: 82.0707\n",
      "Epoch: 8  Train Loss: 0.1595  Train Acc: 93.2271  Valid Loss: 0.6081  Valid Acc: 82.8283\n",
      "Epoch: 9  Train Loss: 0.1755  Train Acc: 92.6295  Valid Loss: 0.5056  Valid Acc: 83.3333\n",
      "Epoch: 10  Train Loss: 0.1387  Train Acc: 95.2855  Valid Loss: 0.5597  Valid Acc: 80.5556\n"
     ]
    }
   ],
   "source": [
    "# CNNSimpleDos con bilateralFilter dataset\n",
    "# directorio para leer los datos\n",
    "data_dir = 'C:/Users/tian_/Desktop/Proyecto2/Data/bilateralFilter'\n",
    "transform = transforms.Compose([\n",
    "    # convert the images to tensor shape\n",
    "    transforms.ToTensor(),\n",
    "    # Transformrs the images to 128 x 128, se hace porque no son constantes los tamaños\n",
    "    transforms.Resize((32, 32)),\n",
    "    # se normalizan los canales RGB la media y la deviacion stander en 0.5 cada canal\n",
    "    transforms.Normalize((0.5, 0.5, 0.5), (0.5, 0.5, 0.5))\n",
    "])\n",
    "# Data Loader carga del folder de training las imagenes y las etiqueta con el nombre del folder donde estan\n",
    "# en este caso Covid, Normal y Viral Pneumonia\n",
    "trainset = datasets.ImageFolder(os.path.join(data_dir, 'training_set'), transform=transform)\n",
    "testset = datasets.ImageFolder(os.path.join(data_dir, 'test_set'), transform=transform)\n",
    "#Iterable del dataset\n",
    "# probar con 32 or 64 for better results\n",
    "trainloader = DataLoader(trainset, batch_size=32, shuffle=True)\n",
    "#Iterable del dataset\n",
    "testloader = DataLoader(testset, batch_size=32, shuffle=False)\n",
    "# se encuenta el numero de ejemplos, el numero de batch preselecionado y se calculan el total de numero de batceh por epoca\n",
    "total_samples = len(trainloader.dataset)\n",
    "batch_size = trainloader.batch_size\n",
    "num_batches_per_epoch = math.ceil(total_samples / batch_size)\n",
    "\n",
    "print(\"Total samples:\", total_samples)\n",
    "print(\"Batch size:\", batch_size)\n",
    "print(\"Number of batches per epoch:\", num_batches_per_epoch)\n",
    "# Set your API key as an environment variable para wandb\n",
    "os.environ[\"WANDB_API_KEY\"] = \"ea93e82127178cd6709c03f277029a17909d3cbc\"\n",
    "wandb.login()\n",
    "\n",
    "# Hyperparametros de entrenamiento\n",
    "epochs = 10\n",
    "lr = 0.0005\n",
    "class_names = [\"Covid\", \"Normal\", \"Viral Pneumonia\"]\n",
    "\n",
    "# Parametros para inicializar Wandb\n",
    "run = wandb.init(\n",
    "    # Set the project where this run will be logged\n",
    "    project=\"Proyecto2\",\n",
    "    # Track hyperparameters and run metadata\n",
    "    config={\n",
    "        \"learning_rate\": lr,\n",
    "        \"epochs\": epochs,\n",
    "    },\n",
    ")\n",
    "\n",
    "#Se inicializa la red y se escoge la funcion de perdida y la de optimizacion\n",
    "network = CNNSimpleUno().to(device)\n",
    "criterion = nn.CrossEntropyLoss()\n",
    "optimizer = optim.Adam(network.parameters(), lr)\n",
    "\n",
    "# Log the network weight histograms (optional)\n",
    "wandb.watch(network, log=\"all\")\n",
    "start_time = time.time()\n",
    "for epoch in range(1, epochs+1):\n",
    "    \n",
    "    loss_train, acc_train = train(network,  criterion, optimizer, trainloader)\n",
    "    loss_valid, acc_valid,y_true,y_pred = validate(network,  criterion, testloader)\n",
    "    \n",
    "    print('Epoch: {}  Train Loss: {:.4f}  Train Acc: {:.4f}  Valid Loss: {:.4f}  Valid Acc: {:.4f}'.format(epoch, loss_train, acc_train, loss_valid, acc_valid))\n",
    "\n",
    "    # Logs en tiempo real de wandb\n",
    "    wandb.log({\n",
    "        \"Epoch\": epoch,\n",
    "        \"Train Loss\": loss_train,\n",
    "        \"Train Acc\": acc_train,\n",
    "        \"Valid Loss\": loss_valid,\n",
    "        \"Valid Acc\": acc_valid,\n",
    "        \"Elapsed time:\":time.time() - start_time})\n",
    "    \n",
    "    wandb.log({\"confusion_matrix\": wandb.plot.confusion_matrix(probs=None,\n",
    "                                                                y_true=y_true,\n",
    "                                                                preds=y_pred,\n",
    "                                                                class_names=class_names,\n",
    "                                                                title = \"Confusion Matrix\")},\n",
    "                                                                commit=False)"
   ]
  },
  {
   "cell_type": "code",
   "execution_count": 23,
   "metadata": {},
   "outputs": [
    {
     "name": "stderr",
     "output_type": "stream",
     "text": [
      "\u001b[34m\u001b[1mwandb\u001b[0m: \u001b[33mWARNING\u001b[0m Calling wandb.login() after wandb.init() has no effect.\n"
     ]
    },
    {
     "name": "stdout",
     "output_type": "stream",
     "text": [
      "Total samples: 1506\n",
      "Batch size: 32\n",
      "Number of batches per epoch: 48\n"
     ]
    },
    {
     "data": {
      "text/html": [
       "Finishing last run (ID:yq7lg1w6) before initializing another..."
      ],
      "text/plain": [
       "<IPython.core.display.HTML object>"
      ]
     },
     "metadata": {},
     "output_type": "display_data"
    },
    {
     "data": {
      "text/html": [
       "<style>\n",
       "    table.wandb td:nth-child(1) { padding: 0 10px; text-align: left ; width: auto;} td:nth-child(2) {text-align: left ; width: 100%}\n",
       "    .wandb-row { display: flex; flex-direction: row; flex-wrap: wrap; justify-content: flex-start; width: 100% }\n",
       "    .wandb-col { display: flex; flex-direction: column; flex-basis: 100%; flex: 1; padding: 10px; }\n",
       "    </style>\n",
       "<div class=\"wandb-row\"><div class=\"wandb-col\"><h3>Run history:</h3><br/><table class=\"wandb\"><tr><td>Elapsed time:</td><td>▁▂▃▃▄▅▆▆▇█</td></tr><tr><td>Epoch</td><td>▁▂▃▃▄▅▆▆▇█</td></tr><tr><td>Train Acc</td><td>▁▆▇▇▇▇▇▇▇█</td></tr><tr><td>Train Loss</td><td>█▄▃▂▂▂▁▁▂▁</td></tr><tr><td>Valid Acc</td><td>▁▆▅▅█▇▇▇▇▆</td></tr><tr><td>Valid Loss</td><td>▆▁▁▂█▃▃▆▃▅</td></tr></table><br/></div><div class=\"wandb-col\"><h3>Run summary:</h3><br/><table class=\"wandb\"><tr><td>Elapsed time:</td><td>755.67216</td></tr><tr><td>Epoch</td><td>10</td></tr><tr><td>Train Acc</td><td>95.28552</td></tr><tr><td>Train Loss</td><td>0.13867</td></tr><tr><td>Valid Acc</td><td>80.55556</td></tr><tr><td>Valid Loss</td><td>0.55967</td></tr></table><br/></div></div>"
      ],
      "text/plain": [
       "<IPython.core.display.HTML object>"
      ]
     },
     "metadata": {},
     "output_type": "display_data"
    },
    {
     "data": {
      "text/html": [
       " View run <strong style=\"color:#cdcd00\">forgotten-fleet-7</strong> at: <a href='https://wandb.ai/sebas1498/Proyecto2/runs/yq7lg1w6/workspace' target=\"_blank\">https://wandb.ai/sebas1498/Proyecto2/runs/yq7lg1w6/workspace</a><br/>Synced 5 W&B file(s), 10 media file(s), 10 artifact file(s) and 0 other file(s)"
      ],
      "text/plain": [
       "<IPython.core.display.HTML object>"
      ]
     },
     "metadata": {},
     "output_type": "display_data"
    },
    {
     "data": {
      "text/html": [
       "Find logs at: <code>.\\wandb\\run-20240505_170317-yq7lg1w6\\logs</code>"
      ],
      "text/plain": [
       "<IPython.core.display.HTML object>"
      ]
     },
     "metadata": {},
     "output_type": "display_data"
    },
    {
     "data": {
      "text/html": [
       "Successfully finished last run (ID:yq7lg1w6). Initializing new run:<br/>"
      ],
      "text/plain": [
       "<IPython.core.display.HTML object>"
      ]
     },
     "metadata": {},
     "output_type": "display_data"
    },
    {
     "data": {
      "text/html": [
       "wandb version 0.16.6 is available!  To upgrade, please run:\n",
       " $ pip install wandb --upgrade"
      ],
      "text/plain": [
       "<IPython.core.display.HTML object>"
      ]
     },
     "metadata": {},
     "output_type": "display_data"
    },
    {
     "data": {
      "text/html": [
       "Tracking run with wandb version 0.16.5"
      ],
      "text/plain": [
       "<IPython.core.display.HTML object>"
      ]
     },
     "metadata": {},
     "output_type": "display_data"
    },
    {
     "data": {
      "text/html": [
       "Run data is saved locally in <code>c:\\Users\\tian_\\Desktop\\Proyecto2\\wandb\\run-20240505_171645-e65gt9k3</code>"
      ],
      "text/plain": [
       "<IPython.core.display.HTML object>"
      ]
     },
     "metadata": {},
     "output_type": "display_data"
    },
    {
     "data": {
      "text/html": [
       "Syncing run <strong><a href='https://wandb.ai/sebas1498/Proyecto2/runs/e65gt9k3/workspace' target=\"_blank\">forgotten-astromech-8</a></strong> to <a href='https://wandb.ai/sebas1498/Proyecto2' target=\"_blank\">Weights & Biases</a> (<a href='https://wandb.me/run' target=\"_blank\">docs</a>)<br/>"
      ],
      "text/plain": [
       "<IPython.core.display.HTML object>"
      ]
     },
     "metadata": {},
     "output_type": "display_data"
    },
    {
     "data": {
      "text/html": [
       " View project at <a href='https://wandb.ai/sebas1498/Proyecto2' target=\"_blank\">https://wandb.ai/sebas1498/Proyecto2</a>"
      ],
      "text/plain": [
       "<IPython.core.display.HTML object>"
      ]
     },
     "metadata": {},
     "output_type": "display_data"
    },
    {
     "data": {
      "text/html": [
       " View run at <a href='https://wandb.ai/sebas1498/Proyecto2/runs/e65gt9k3/workspace' target=\"_blank\">https://wandb.ai/sebas1498/Proyecto2/runs/e65gt9k3/workspace</a>"
      ],
      "text/plain": [
       "<IPython.core.display.HTML object>"
      ]
     },
     "metadata": {},
     "output_type": "display_data"
    },
    {
     "name": "stderr",
     "output_type": "stream",
     "text": [
      "c:\\Users\\tian_\\AppData\\Local\\anaconda3\\envs\\Pytorch_env\\Lib\\site-packages\\torch\\autograd\\graph.py:744: UserWarning: Plan failed with a cudnnException: CUDNN_BACKEND_EXECUTION_PLAN_DESCRIPTOR: cudnnFinalize Descriptor Failed cudnn_status: CUDNN_STATUS_NOT_SUPPORTED (Triggered internally at C:\\cb\\pytorch_1000000000000\\work\\aten\\src\\ATen\\native\\cudnn\\Conv_v8.cpp:919.)\n",
      "  return Variable._execution_engine.run_backward(  # Calls into the C++ engine to run the backward pass\n"
     ]
    },
    {
     "name": "stdout",
     "output_type": "stream",
     "text": [
      "Epoch: 1  Train Loss: 0.7076  Train Acc: 70.0531  Valid Loss: 0.6028  Valid Acc: 73.9899\n",
      "Epoch: 2  Train Loss: 0.3101  Train Acc: 88.1142  Valid Loss: 0.5434  Valid Acc: 81.8182\n",
      "Epoch: 3  Train Loss: 0.2220  Train Acc: 91.3679  Valid Loss: 0.6922  Valid Acc: 69.6970\n",
      "Epoch: 4  Train Loss: 0.2211  Train Acc: 91.3015  Valid Loss: 0.5045  Valid Acc: 78.0303\n",
      "Epoch: 5  Train Loss: 0.1316  Train Acc: 94.4887  Valid Loss: 0.4740  Valid Acc: 83.8384\n",
      "Epoch: 6  Train Loss: 0.1228  Train Acc: 96.2151  Valid Loss: 0.5142  Valid Acc: 80.5556\n",
      "Epoch: 7  Train Loss: 0.2090  Train Acc: 91.9655  Valid Loss: 0.4358  Valid Acc: 85.1010\n",
      "Epoch: 8  Train Loss: 0.1004  Train Acc: 96.0823  Valid Loss: 0.6534  Valid Acc: 83.0808\n",
      "Epoch: 9  Train Loss: 0.2240  Train Acc: 91.6335  Valid Loss: 0.4251  Valid Acc: 85.3535\n",
      "Epoch: 10  Train Loss: 0.0759  Train Acc: 98.2072  Valid Loss: 0.4710  Valid Acc: 85.6061\n"
     ]
    }
   ],
   "source": [
    "# CNNSimpleDos con raw dataset\n",
    "# directorio para leer los datos\n",
    "data_dir = 'C:/Users/tian_/Desktop/Proyecto2/Data/raw'\n",
    "transform = transforms.Compose([\n",
    "    # convert the images to tensor shape\n",
    "    transforms.ToTensor(),\n",
    "    # Transformrs the images to 128 x 128, se hace porque no son constantes los tamaños\n",
    "    transforms.Resize((32, 32)),\n",
    "    # se normalizan los canales RGB la media y la deviacion stander en 0.5 cada canal\n",
    "    transforms.Normalize((0.5, 0.5, 0.5), (0.5, 0.5, 0.5))\n",
    "])\n",
    "# Data Loader carga del folder de training las imagenes y las etiqueta con el nombre del folder donde estan\n",
    "# en este caso Covid, Normal y Viral Pneumonia\n",
    "trainset = datasets.ImageFolder(os.path.join(data_dir, 'training_set'), transform=transform)\n",
    "testset = datasets.ImageFolder(os.path.join(data_dir, 'test_set'), transform=transform)\n",
    "#Iterable del dataset\n",
    "# probar con 32 or 64 for better results\n",
    "trainloader = DataLoader(trainset, batch_size=32, shuffle=True)\n",
    "#Iterable del dataset\n",
    "testloader = DataLoader(testset, batch_size=32, shuffle=False)\n",
    "# se encuenta el numero de ejemplos, el numero de batch preselecionado y se calculan el total de numero de batceh por epoca\n",
    "total_samples = len(trainloader.dataset)\n",
    "batch_size = trainloader.batch_size\n",
    "num_batches_per_epoch = math.ceil(total_samples / batch_size)\n",
    "\n",
    "print(\"Total samples:\", total_samples)\n",
    "print(\"Batch size:\", batch_size)\n",
    "print(\"Number of batches per epoch:\", num_batches_per_epoch)\n",
    "# Set your API key as an environment variable para wandb\n",
    "os.environ[\"WANDB_API_KEY\"] = \"ea93e82127178cd6709c03f277029a17909d3cbc\"\n",
    "wandb.login()\n",
    "\n",
    "# Hyperparametros de entrenamiento\n",
    "epochs = 10\n",
    "lr = 0.0005\n",
    "class_names = [\"Covid\", \"Normal\", \"Viral Pneumonia\"]\n",
    "\n",
    "# Parametros para inicializar Wandb\n",
    "run = wandb.init(\n",
    "    # Set the project where this run will be logged\n",
    "    project=\"Proyecto2\",\n",
    "    # Track hyperparameters and run metadata\n",
    "    config={\n",
    "        \"learning_rate\": lr,\n",
    "        \"epochs\": epochs,\n",
    "    },\n",
    ")\n",
    "\n",
    "#Se inicializa la red y se escoge la funcion de perdida y la de optimizacion\n",
    "network = CNN().to(device)\n",
    "criterion = nn.CrossEntropyLoss()\n",
    "optimizer = optim.Adam(network.parameters(), lr)\n",
    "\n",
    "# Log the network weight histograms (optional)\n",
    "wandb.watch(network, log=\"all\")\n",
    "start_time = time.time()\n",
    "for epoch in range(1, epochs+1):\n",
    "    \n",
    "    loss_train, acc_train = train(network,  criterion, optimizer, trainloader)\n",
    "    loss_valid, acc_valid,y_true,y_pred = validate(network,  criterion, testloader)\n",
    "    \n",
    "    print('Epoch: {}  Train Loss: {:.4f}  Train Acc: {:.4f}  Valid Loss: {:.4f}  Valid Acc: {:.4f}'.format(epoch, loss_train, acc_train, loss_valid, acc_valid))\n",
    "\n",
    "    # Logs en tiempo real de wandb\n",
    "    wandb.log({\n",
    "        \"Epoch\": epoch,\n",
    "        \"Train Loss\": loss_train,\n",
    "        \"Train Acc\": acc_train,\n",
    "        \"Valid Loss\": loss_valid,\n",
    "        \"Valid Acc\": acc_valid,\n",
    "        \"Elapsed time:\":time.time() - start_time})\n",
    "    \n",
    "    wandb.log({\"confusion_matrix\": wandb.plot.confusion_matrix(probs=None,\n",
    "                                                                y_true=y_true,\n",
    "                                                                preds=y_pred,\n",
    "                                                                class_names=class_names,\n",
    "                                                                title = \"Confusion Matrix\")},\n",
    "                                                                commit=False)"
   ]
  },
  {
   "cell_type": "code",
   "execution_count": 24,
   "metadata": {},
   "outputs": [
    {
     "name": "stderr",
     "output_type": "stream",
     "text": [
      "\u001b[34m\u001b[1mwandb\u001b[0m: \u001b[33mWARNING\u001b[0m Calling wandb.login() after wandb.init() has no effect.\n"
     ]
    },
    {
     "name": "stdout",
     "output_type": "stream",
     "text": [
      "Total samples: 1506\n",
      "Batch size: 32\n",
      "Number of batches per epoch: 48\n"
     ]
    },
    {
     "data": {
      "text/html": [
       "Finishing last run (ID:e65gt9k3) before initializing another..."
      ],
      "text/plain": [
       "<IPython.core.display.HTML object>"
      ]
     },
     "metadata": {},
     "output_type": "display_data"
    },
    {
     "data": {
      "text/html": [
       "<style>\n",
       "    table.wandb td:nth-child(1) { padding: 0 10px; text-align: left ; width: auto;} td:nth-child(2) {text-align: left ; width: 100%}\n",
       "    .wandb-row { display: flex; flex-direction: row; flex-wrap: wrap; justify-content: flex-start; width: 100% }\n",
       "    .wandb-col { display: flex; flex-direction: column; flex-basis: 100%; flex: 1; padding: 10px; }\n",
       "    </style>\n",
       "<div class=\"wandb-row\"><div class=\"wandb-col\"><h3>Run history:</h3><br/><table class=\"wandb\"><tr><td>Elapsed time:</td><td>▁▂▃▃▄▅▆▆▇█</td></tr><tr><td>Epoch</td><td>▁▂▃▃▄▅▆▆▇█</td></tr><tr><td>Train Acc</td><td>▁▅▆▆▇█▆▇▆█</td></tr><tr><td>Train Loss</td><td>█▄▃▃▂▂▂▁▃▁</td></tr><tr><td>Valid Acc</td><td>▃▆▁▅▇▆█▇██</td></tr><tr><td>Valid Loss</td><td>▆▄█▃▂▃▁▇▁▂</td></tr></table><br/></div><div class=\"wandb-col\"><h3>Run summary:</h3><br/><table class=\"wandb\"><tr><td>Elapsed time:</td><td>857.76384</td></tr><tr><td>Epoch</td><td>10</td></tr><tr><td>Train Acc</td><td>98.20717</td></tr><tr><td>Train Loss</td><td>0.07591</td></tr><tr><td>Valid Acc</td><td>85.60606</td></tr><tr><td>Valid Loss</td><td>0.47099</td></tr></table><br/></div></div>"
      ],
      "text/plain": [
       "<IPython.core.display.HTML object>"
      ]
     },
     "metadata": {},
     "output_type": "display_data"
    },
    {
     "data": {
      "text/html": [
       " View run <strong style=\"color:#cdcd00\">forgotten-astromech-8</strong> at: <a href='https://wandb.ai/sebas1498/Proyecto2/runs/e65gt9k3/workspace' target=\"_blank\">https://wandb.ai/sebas1498/Proyecto2/runs/e65gt9k3/workspace</a><br/>Synced 5 W&B file(s), 10 media file(s), 10 artifact file(s) and 0 other file(s)"
      ],
      "text/plain": [
       "<IPython.core.display.HTML object>"
      ]
     },
     "metadata": {},
     "output_type": "display_data"
    },
    {
     "data": {
      "text/html": [
       "Find logs at: <code>.\\wandb\\run-20240505_171645-e65gt9k3\\logs</code>"
      ],
      "text/plain": [
       "<IPython.core.display.HTML object>"
      ]
     },
     "metadata": {},
     "output_type": "display_data"
    },
    {
     "data": {
      "text/html": [
       "Successfully finished last run (ID:e65gt9k3). Initializing new run:<br/>"
      ],
      "text/plain": [
       "<IPython.core.display.HTML object>"
      ]
     },
     "metadata": {},
     "output_type": "display_data"
    },
    {
     "data": {
      "text/html": [
       "wandb version 0.16.6 is available!  To upgrade, please run:\n",
       " $ pip install wandb --upgrade"
      ],
      "text/plain": [
       "<IPython.core.display.HTML object>"
      ]
     },
     "metadata": {},
     "output_type": "display_data"
    },
    {
     "data": {
      "text/html": [
       "Tracking run with wandb version 0.16.5"
      ],
      "text/plain": [
       "<IPython.core.display.HTML object>"
      ]
     },
     "metadata": {},
     "output_type": "display_data"
    },
    {
     "data": {
      "text/html": [
       "Run data is saved locally in <code>c:\\Users\\tian_\\Desktop\\Proyecto2\\wandb\\run-20240505_173121-yr9mcjgw</code>"
      ],
      "text/plain": [
       "<IPython.core.display.HTML object>"
      ]
     },
     "metadata": {},
     "output_type": "display_data"
    },
    {
     "data": {
      "text/html": [
       "Syncing run <strong><a href='https://wandb.ai/sebas1498/Proyecto2/runs/yr9mcjgw/workspace' target=\"_blank\">old-commander-9</a></strong> to <a href='https://wandb.ai/sebas1498/Proyecto2' target=\"_blank\">Weights & Biases</a> (<a href='https://wandb.me/run' target=\"_blank\">docs</a>)<br/>"
      ],
      "text/plain": [
       "<IPython.core.display.HTML object>"
      ]
     },
     "metadata": {},
     "output_type": "display_data"
    },
    {
     "data": {
      "text/html": [
       " View project at <a href='https://wandb.ai/sebas1498/Proyecto2' target=\"_blank\">https://wandb.ai/sebas1498/Proyecto2</a>"
      ],
      "text/plain": [
       "<IPython.core.display.HTML object>"
      ]
     },
     "metadata": {},
     "output_type": "display_data"
    },
    {
     "data": {
      "text/html": [
       " View run at <a href='https://wandb.ai/sebas1498/Proyecto2/runs/yr9mcjgw/workspace' target=\"_blank\">https://wandb.ai/sebas1498/Proyecto2/runs/yr9mcjgw/workspace</a>"
      ],
      "text/plain": [
       "<IPython.core.display.HTML object>"
      ]
     },
     "metadata": {},
     "output_type": "display_data"
    },
    {
     "name": "stdout",
     "output_type": "stream",
     "text": [
      "Epoch: 1  Train Loss: 1.0219  Train Acc: 48.1408  Valid Loss: 1.0378  Valid Acc: 43.9394\n",
      "Epoch: 2  Train Loss: 0.8197  Train Acc: 63.2802  Valid Loss: 1.1486  Valid Acc: 49.2424\n",
      "Epoch: 3  Train Loss: 0.6576  Train Acc: 72.5764  Valid Loss: 0.8991  Valid Acc: 60.8586\n",
      "Epoch: 4  Train Loss: 0.5114  Train Acc: 79.8805  Valid Loss: 0.9399  Valid Acc: 64.1414\n",
      "Epoch: 5  Train Loss: 0.4488  Train Acc: 82.2709  Valid Loss: 0.9568  Valid Acc: 62.6263\n",
      "Epoch: 6  Train Loss: 0.4075  Train Acc: 84.5950  Valid Loss: 0.8945  Valid Acc: 66.4141\n",
      "Epoch: 7  Train Loss: 0.3344  Train Acc: 87.1846  Valid Loss: 0.8925  Valid Acc: 67.9293\n",
      "Epoch: 8  Train Loss: 0.3180  Train Acc: 87.3174  Valid Loss: 0.9535  Valid Acc: 66.1616\n",
      "Epoch: 9  Train Loss: 0.2792  Train Acc: 89.1766  Valid Loss: 0.9133  Valid Acc: 68.9394\n",
      "Epoch: 10  Train Loss: 0.2477  Train Acc: 91.9655  Valid Loss: 1.1416  Valid Acc: 64.6465\n"
     ]
    }
   ],
   "source": [
    "# CNNSimpleDos con cannyFilter dataset\n",
    "# directorio para leer los datos\n",
    "data_dir = 'C:/Users/tian_/Desktop/Proyecto2/Data/cannyFilter'\n",
    "transform = transforms.Compose([\n",
    "    # convert the images to tensor shape\n",
    "    transforms.ToTensor(),\n",
    "    # Transformrs the images to 128 x 128, se hace porque no son constantes los tamaños\n",
    "    transforms.Resize((32, 32)),\n",
    "    # se normalizan los canales RGB la media y la deviacion stander en 0.5 cada canal\n",
    "    transforms.Normalize((0.5, 0.5, 0.5), (0.5, 0.5, 0.5))\n",
    "])\n",
    "# Data Loader carga del folder de training las imagenes y las etiqueta con el nombre del folder donde estan\n",
    "# en este caso Covid, Normal y Viral Pneumonia\n",
    "trainset = datasets.ImageFolder(os.path.join(data_dir, 'training_set'), transform=transform)\n",
    "testset = datasets.ImageFolder(os.path.join(data_dir, 'test_set'), transform=transform)\n",
    "#Iterable del dataset\n",
    "# probar con 32 or 64 for better results\n",
    "trainloader = DataLoader(trainset, batch_size=32, shuffle=True)\n",
    "#Iterable del dataset\n",
    "testloader = DataLoader(testset, batch_size=32, shuffle=False)\n",
    "# se encuenta el numero de ejemplos, el numero de batch preselecionado y se calculan el total de numero de batceh por epoca\n",
    "total_samples = len(trainloader.dataset)\n",
    "batch_size = trainloader.batch_size\n",
    "num_batches_per_epoch = math.ceil(total_samples / batch_size)\n",
    "\n",
    "print(\"Total samples:\", total_samples)\n",
    "print(\"Batch size:\", batch_size)\n",
    "print(\"Number of batches per epoch:\", num_batches_per_epoch)\n",
    "# Set your API key as an environment variable para wandb\n",
    "os.environ[\"WANDB_API_KEY\"] = \"ea93e82127178cd6709c03f277029a17909d3cbc\"\n",
    "wandb.login()\n",
    "\n",
    "# Hyperparametros de entrenamiento\n",
    "epochs = 10\n",
    "lr = 0.0005\n",
    "class_names = [\"Covid\", \"Normal\", \"Viral Pneumonia\"]\n",
    "\n",
    "# Parametros para inicializar Wandb\n",
    "run = wandb.init(\n",
    "    # Set the project where this run will be logged\n",
    "    project=\"Proyecto2\",\n",
    "    # Track hyperparameters and run metadata\n",
    "    config={\n",
    "        \"learning_rate\": lr,\n",
    "        \"epochs\": epochs,\n",
    "    },\n",
    ")\n",
    "\n",
    "#Se inicializa la red y se escoge la funcion de perdida y la de optimizacion\n",
    "network = CNN().to(device)\n",
    "criterion = nn.CrossEntropyLoss()\n",
    "optimizer = optim.Adam(network.parameters(), lr)\n",
    "\n",
    "# Log the network weight histograms (optional)\n",
    "wandb.watch(network, log=\"all\")\n",
    "start_time = time.time()\n",
    "for epoch in range(1, epochs+1):\n",
    "    \n",
    "    loss_train, acc_train = train(network,  criterion, optimizer, trainloader)\n",
    "    loss_valid, acc_valid,y_true,y_pred = validate(network,  criterion, testloader)\n",
    "    \n",
    "    print('Epoch: {}  Train Loss: {:.4f}  Train Acc: {:.4f}  Valid Loss: {:.4f}  Valid Acc: {:.4f}'.format(epoch, loss_train, acc_train, loss_valid, acc_valid))\n",
    "\n",
    "    # Logs en tiempo real de wandb\n",
    "    wandb.log({\n",
    "        \"Epoch\": epoch,\n",
    "        \"Train Loss\": loss_train,\n",
    "        \"Train Acc\": acc_train,\n",
    "        \"Valid Loss\": loss_valid,\n",
    "        \"Valid Acc\": acc_valid,\n",
    "        \"Elapsed time:\":time.time() - start_time})\n",
    "    \n",
    "    wandb.log({\"confusion_matrix\": wandb.plot.confusion_matrix(probs=None,\n",
    "                                                                y_true=y_true,\n",
    "                                                                preds=y_pred,\n",
    "                                                                class_names=class_names,\n",
    "                                                                title = \"Confusion Matrix\")},\n",
    "                                                                commit=False)"
   ]
  },
  {
   "cell_type": "code",
   "execution_count": 25,
   "metadata": {},
   "outputs": [
    {
     "name": "stderr",
     "output_type": "stream",
     "text": [
      "\u001b[34m\u001b[1mwandb\u001b[0m: \u001b[33mWARNING\u001b[0m Calling wandb.login() after wandb.init() has no effect.\n"
     ]
    },
    {
     "name": "stdout",
     "output_type": "stream",
     "text": [
      "Total samples: 1506\n",
      "Batch size: 32\n",
      "Number of batches per epoch: 48\n"
     ]
    },
    {
     "data": {
      "text/html": [
       "Finishing last run (ID:yr9mcjgw) before initializing another..."
      ],
      "text/plain": [
       "<IPython.core.display.HTML object>"
      ]
     },
     "metadata": {},
     "output_type": "display_data"
    },
    {
     "data": {
      "text/html": [
       "<style>\n",
       "    table.wandb td:nth-child(1) { padding: 0 10px; text-align: left ; width: auto;} td:nth-child(2) {text-align: left ; width: 100%}\n",
       "    .wandb-row { display: flex; flex-direction: row; flex-wrap: wrap; justify-content: flex-start; width: 100% }\n",
       "    .wandb-col { display: flex; flex-direction: column; flex-basis: 100%; flex: 1; padding: 10px; }\n",
       "    </style>\n",
       "<div class=\"wandb-row\"><div class=\"wandb-col\"><h3>Run history:</h3><br/><table class=\"wandb\"><tr><td>Elapsed time:</td><td>▁▂▃▃▄▅▆▆▇█</td></tr><tr><td>Epoch</td><td>▁▂▃▃▄▅▆▆▇█</td></tr><tr><td>Train Acc</td><td>▁▃▅▆▆▇▇▇██</td></tr><tr><td>Train Loss</td><td>█▆▅▃▃▂▂▂▁▁</td></tr><tr><td>Valid Acc</td><td>▁▂▆▇▆▇█▇█▇</td></tr><tr><td>Valid Loss</td><td>▅█▁▂▃▁▁▃▂█</td></tr></table><br/></div><div class=\"wandb-col\"><h3>Run summary:</h3><br/><table class=\"wandb\"><tr><td>Elapsed time:</td><td>888.89914</td></tr><tr><td>Epoch</td><td>10</td></tr><tr><td>Train Acc</td><td>91.96547</td></tr><tr><td>Train Loss</td><td>0.24774</td></tr><tr><td>Valid Acc</td><td>64.64646</td></tr><tr><td>Valid Loss</td><td>1.14164</td></tr></table><br/></div></div>"
      ],
      "text/plain": [
       "<IPython.core.display.HTML object>"
      ]
     },
     "metadata": {},
     "output_type": "display_data"
    },
    {
     "data": {
      "text/html": [
       " View run <strong style=\"color:#cdcd00\">old-commander-9</strong> at: <a href='https://wandb.ai/sebas1498/Proyecto2/runs/yr9mcjgw/workspace' target=\"_blank\">https://wandb.ai/sebas1498/Proyecto2/runs/yr9mcjgw/workspace</a><br/>Synced 5 W&B file(s), 10 media file(s), 10 artifact file(s) and 0 other file(s)"
      ],
      "text/plain": [
       "<IPython.core.display.HTML object>"
      ]
     },
     "metadata": {},
     "output_type": "display_data"
    },
    {
     "data": {
      "text/html": [
       "Find logs at: <code>.\\wandb\\run-20240505_173121-yr9mcjgw\\logs</code>"
      ],
      "text/plain": [
       "<IPython.core.display.HTML object>"
      ]
     },
     "metadata": {},
     "output_type": "display_data"
    },
    {
     "data": {
      "text/html": [
       "Successfully finished last run (ID:yr9mcjgw). Initializing new run:<br/>"
      ],
      "text/plain": [
       "<IPython.core.display.HTML object>"
      ]
     },
     "metadata": {},
     "output_type": "display_data"
    },
    {
     "data": {
      "text/html": [
       "wandb version 0.16.6 is available!  To upgrade, please run:\n",
       " $ pip install wandb --upgrade"
      ],
      "text/plain": [
       "<IPython.core.display.HTML object>"
      ]
     },
     "metadata": {},
     "output_type": "display_data"
    },
    {
     "data": {
      "text/html": [
       "Tracking run with wandb version 0.16.5"
      ],
      "text/plain": [
       "<IPython.core.display.HTML object>"
      ]
     },
     "metadata": {},
     "output_type": "display_data"
    },
    {
     "data": {
      "text/html": [
       "Run data is saved locally in <code>c:\\Users\\tian_\\Desktop\\Proyecto2\\wandb\\run-20240505_174843-rradl5f3</code>"
      ],
      "text/plain": [
       "<IPython.core.display.HTML object>"
      ]
     },
     "metadata": {},
     "output_type": "display_data"
    },
    {
     "data": {
      "text/html": [
       "Syncing run <strong><a href='https://wandb.ai/sebas1498/Proyecto2/runs/rradl5f3/workspace' target=\"_blank\">civilized-bothan-10</a></strong> to <a href='https://wandb.ai/sebas1498/Proyecto2' target=\"_blank\">Weights & Biases</a> (<a href='https://wandb.me/run' target=\"_blank\">docs</a>)<br/>"
      ],
      "text/plain": [
       "<IPython.core.display.HTML object>"
      ]
     },
     "metadata": {},
     "output_type": "display_data"
    },
    {
     "data": {
      "text/html": [
       " View project at <a href='https://wandb.ai/sebas1498/Proyecto2' target=\"_blank\">https://wandb.ai/sebas1498/Proyecto2</a>"
      ],
      "text/plain": [
       "<IPython.core.display.HTML object>"
      ]
     },
     "metadata": {},
     "output_type": "display_data"
    },
    {
     "data": {
      "text/html": [
       " View run at <a href='https://wandb.ai/sebas1498/Proyecto2/runs/rradl5f3/workspace' target=\"_blank\">https://wandb.ai/sebas1498/Proyecto2/runs/rradl5f3/workspace</a>"
      ],
      "text/plain": [
       "<IPython.core.display.HTML object>"
      ]
     },
     "metadata": {},
     "output_type": "display_data"
    },
    {
     "name": "stdout",
     "output_type": "stream",
     "text": [
      "Epoch: 1  Train Loss: 0.6786  Train Acc: 69.3227  Valid Loss: 0.5814  Valid Acc: 77.0202\n",
      "Epoch: 2  Train Loss: 0.3170  Train Acc: 88.6454  Valid Loss: 0.6031  Valid Acc: 77.5253\n",
      "Epoch: 3  Train Loss: 0.2497  Train Acc: 90.1726  Valid Loss: 0.5266  Valid Acc: 82.8283\n",
      "Epoch: 4  Train Loss: 0.1685  Train Acc: 93.7583  Valid Loss: 0.5332  Valid Acc: 81.5657\n",
      "Epoch: 5  Train Loss: 0.1238  Train Acc: 95.1527  Valid Loss: 0.4381  Valid Acc: 86.6162\n",
      "Epoch: 6  Train Loss: 0.0880  Train Acc: 97.3440  Valid Loss: 0.5264  Valid Acc: 84.8485\n",
      "Epoch: 7  Train Loss: 0.0764  Train Acc: 97.2112  Valid Loss: 0.5561  Valid Acc: 84.0909\n",
      "Epoch: 8  Train Loss: 0.0353  Train Acc: 99.0704  Valid Loss: 0.5476  Valid Acc: 85.8586\n",
      "Epoch: 9  Train Loss: 0.0322  Train Acc: 98.9376  Valid Loss: 0.5805  Valid Acc: 84.5960\n",
      "Epoch: 10  Train Loss: 0.0489  Train Acc: 98.0744  Valid Loss: 0.5923  Valid Acc: 84.3434\n"
     ]
    }
   ],
   "source": [
    "# CNNSimpleDos con bilateralFilter dataset\n",
    "# directorio para leer los datos\n",
    "data_dir = 'C:/Users/tian_/Desktop/Proyecto2/Data/bilateralFilter'\n",
    "transform = transforms.Compose([\n",
    "    # convert the images to tensor shape\n",
    "    transforms.ToTensor(),\n",
    "    # Transformrs the images to 128 x 128, se hace porque no son constantes los tamaños\n",
    "    transforms.Resize((32, 32)),\n",
    "    # se normalizan los canales RGB la media y la deviacion stander en 0.5 cada canal\n",
    "    transforms.Normalize((0.5, 0.5, 0.5), (0.5, 0.5, 0.5))\n",
    "])\n",
    "# Data Loader carga del folder de training las imagenes y las etiqueta con el nombre del folder donde estan\n",
    "# en este caso Covid, Normal y Viral Pneumonia\n",
    "trainset = datasets.ImageFolder(os.path.join(data_dir, 'training_set'), transform=transform)\n",
    "testset = datasets.ImageFolder(os.path.join(data_dir, 'test_set'), transform=transform)\n",
    "#Iterable del dataset\n",
    "# probar con 32 or 64 for better results\n",
    "trainloader = DataLoader(trainset, batch_size=32, shuffle=True)\n",
    "#Iterable del dataset\n",
    "testloader = DataLoader(testset, batch_size=32, shuffle=False)\n",
    "# se encuenta el numero de ejemplos, el numero de batch preselecionado y se calculan el total de numero de batceh por epoca\n",
    "total_samples = len(trainloader.dataset)\n",
    "batch_size = trainloader.batch_size\n",
    "num_batches_per_epoch = math.ceil(total_samples / batch_size)\n",
    "\n",
    "print(\"Total samples:\", total_samples)\n",
    "print(\"Batch size:\", batch_size)\n",
    "print(\"Number of batches per epoch:\", num_batches_per_epoch)\n",
    "# Set your API key as an environment variable para wandb\n",
    "os.environ[\"WANDB_API_KEY\"] = \"ea93e82127178cd6709c03f277029a17909d3cbc\"\n",
    "wandb.login()\n",
    "\n",
    "# Hyperparametros de entrenamiento\n",
    "epochs = 10\n",
    "lr = 0.0005\n",
    "class_names = [\"Covid\", \"Normal\", \"Viral Pneumonia\"]\n",
    "\n",
    "# Parametros para inicializar Wandb\n",
    "run = wandb.init(\n",
    "    # Set the project where this run will be logged\n",
    "    project=\"Proyecto2\",\n",
    "    # Track hyperparameters and run metadata\n",
    "    config={\n",
    "        \"learning_rate\": lr,\n",
    "        \"epochs\": epochs,\n",
    "    },\n",
    ")\n",
    "\n",
    "#Se inicializa la red y se escoge la funcion de perdida y la de optimizacion\n",
    "network = CNN().to(device)\n",
    "criterion = nn.CrossEntropyLoss()\n",
    "optimizer = optim.Adam(network.parameters(), lr)\n",
    "\n",
    "# Log the network weight histograms (optional)\n",
    "wandb.watch(network, log=\"all\")\n",
    "start_time = time.time()\n",
    "for epoch in range(1, epochs+1):\n",
    "    \n",
    "    loss_train, acc_train = train(network,  criterion, optimizer, trainloader)\n",
    "    loss_valid, acc_valid,y_true,y_pred = validate(network,  criterion, testloader)\n",
    "    \n",
    "    print('Epoch: {}  Train Loss: {:.4f}  Train Acc: {:.4f}  Valid Loss: {:.4f}  Valid Acc: {:.4f}'.format(epoch, loss_train, acc_train, loss_valid, acc_valid))\n",
    "\n",
    "    # Logs en tiempo real de wandb\n",
    "    wandb.log({\n",
    "        \"Epoch\": epoch,\n",
    "        \"Train Loss\": loss_train,\n",
    "        \"Train Acc\": acc_train,\n",
    "        \"Valid Loss\": loss_valid,\n",
    "        \"Valid Acc\": acc_valid,\n",
    "        \"Elapsed time:\":time.time() - start_time})\n",
    "    \n",
    "    wandb.log({\"confusion_matrix\": wandb.plot.confusion_matrix(probs=None,\n",
    "                                                                y_true=y_true,\n",
    "                                                                preds=y_pred,\n",
    "                                                                class_names=class_names,\n",
    "                                                                title = \"Confusion Matrix\")},\n",
    "                                                                commit=False)"
   ]
  },
  {
   "cell_type": "code",
   "execution_count": 54,
   "metadata": {},
   "outputs": [
    {
     "data": {
      "image/png": "[encoded data removed]",
      "text/plain": [
       "<Figure size 640x480 with 1 Axes>"
      ]
     },
     "metadata": {},
     "output_type": "display_data"
    }
   ],
   "source": [
    "import torch\n",
    "import torchvision.models as models\n",
    "import torchvision.transforms as T\n",
    "import numpy as np\n",
    "import matplotlib.pyplot as plt\n",
    "from PIL import Image\n",
    "\n",
    "# Load the pre-trained VGG-19 model\n",
    "\n",
    "network.eval()\n",
    "\n",
    "# Freeze the parameters\n",
    "for param in network.parameters():\n",
    "    param.requires_grad = False\n",
    "\n",
    "# Load the image\n",
    "img = Image.open('027.jpeg')\n",
    "\n",
    "# Preprocess the image\n",
    "def preprocess(image):\n",
    "    transform = T.Compose([\n",
    "        T.Resize((32, 32)),  \n",
    "        T.ToTensor(),\n",
    "        T.Normalize(mean=[0.485, 0.456, 0.406], std=[0.229, 0.224, 0.225]),\n",
    "    ])\n",
    "    return transform(image).unsqueeze(0)  # Add batch dimension\n",
    "\n",
    "def deprocess(image):\n",
    "    transform = T.Compose([\n",
    "        T.Normalize(mean=[-0.485 / 0.229, -0.456 / 0.224, -0.406 / 0.225], std=[1 / 0.229, 1 / 0.224, 1 / 0.225]),\n",
    "        T.Lambda(lambda x: torch.clamp(x, 0, 1)),  # Clamp to valid range [0, 1]\n",
    "        T.ToPILImage(),\n",
    "    ])\n",
    "    return transform(image)\n",
    "\n",
    "X = preprocess(img) \n",
    "\n",
    "# Ensure both model and input image are on the same device\n",
    "device = torch.device(\"cuda\" if torch.cuda.is_available() else \"cpu\")\n",
    "network.to(device)\n",
    "X = X.to(device)\n",
    "X.requires_grad_()\n",
    "\n",
    "# Forward pass\n",
    "scores = network(X)\n",
    "score_max_index = scores.argmax()\n",
    "score_max = scores[0, score_max_index]\n",
    "score_max.backward()\n",
    "\n",
    "\n",
    "# Compute the saliency map\n",
    "saliency, _ = torch.max(X.grad.abs(), dim=1)\n",
    "\n",
    "# Upscale the saliency map for better visualization\n",
    "upscaled_saliency = torch.nn.functional.interpolate(saliency.unsqueeze(0), size=img.size, mode='bilinear', align_corners=False)\n",
    "upscaled_saliency = upscaled_saliency.squeeze(0)\n",
    "# Visualize the saliency map\n",
    "\n",
    "plt.imshow(saliency[0].cpu(), cmap=plt.cm.hot)\n",
    "plt.axis('off')\n",
    "plt.show()\n"
   ]
  },
  {
   "cell_type": "code",
   "execution_count": 49,
   "metadata": {},
   "outputs": [
    {
     "name": "stderr",
     "output_type": "stream",
     "text": [
      "Clipping input data to the valid range for imshow with RGB data ([0..1] for floats or [0..255] for integers).\n"
     ]
    },
    {
     "data": {
      "image/png": "[encoded data removed]",
      "text/plain": [
       "<Figure size 1000x1000 with 2 Axes>"
      ]
     },
     "metadata": {},
     "output_type": "display_data"
    }
   ],
   "source": [
    "import numpy as np\n",
    "import matplotlib.pyplot as plt\n",
    "from PIL import Image\n",
    "import  torchvision.transforms as transforms\n",
    "\n",
    " #Define transforms for preprocessing input image into a format expected by the model\n",
    "normalize = transforms.Normalize(mean=[0.5], std=[0.5])  # Adjust normalization parameters for thermal images\n",
    "\n",
    "# Inverse transform to get the normalized image back to its original form for visualization\n",
    "inv_normalize = transforms.Normalize(mean=[-1], std=[1])\n",
    "\n",
    "# Transforms to resize image to the size expected by the model, convert PIL image to tensor, and normalize the image\n",
    "transform = transforms.Compose([\n",
    "    transforms.Resize((224, 224)),\n",
    "    transforms.ToTensor(),\n",
    "    normalize,\n",
    "])\n",
    "\n",
    "\n",
    "def saliency(img, model):\n",
    "    # Get the device of the model\n",
    "    device = next(model.parameters()).device\n",
    "    \n",
    "    # Set the model to evaluation mode\n",
    "    model.eval()\n",
    "    \n",
    "    # Transform input PIL image to torch.Tensor and normalize\n",
    "    input = transform(img).to(device)  # Move input tensor to the same device as the model\n",
    "    input.unsqueeze_(0)\n",
    "    input.requires_grad = True\n",
    "    \n",
    "    # Forward pass to calculate predictions\n",
    "    preds = model(input)\n",
    "    score, indices = torch.max(preds, 1)\n",
    "    \n",
    "    # Define a dummy loss (scalar) for gradient computation\n",
    "    dummy_loss = score.sum()  # Summing up the scores to make it a scalar\n",
    "    \n",
    "    # Backward pass to get gradients of the dummy loss w.r.t. input image\n",
    "    dummy_loss.backward()\n",
    "    \n",
    "    # Get max along channel axis\n",
    "    slc, _ = torch.max(torch.abs(input.grad[0]), dim=0)\n",
    "    # Normalize to [0..1]\n",
    "    slc = (slc - slc.min()) / (slc.max() - slc.min())\n",
    "\n",
    "    # Apply inverse transform on image\n",
    "    with torch.no_grad():\n",
    "        input_img = inv_normalize(input[0])\n",
    "\n",
    "    # Plot image and its saliency map\n",
    "    plt.figure(figsize=(10, 10))\n",
    "    plt.subplot(1, 2, 1)\n",
    "    plt.imshow(np.transpose(input_img.cpu().detach().numpy(), (1, 2, 0)))  # Move tensor to CPU for visualization\n",
    "    plt.xticks([])\n",
    "    plt.yticks([])\n",
    "    plt.subplot(1, 2, 2)\n",
    "    plt.imshow(slc.cpu().numpy(), cmap=plt.cm.jet)  # Move tensor to CPU for visualization\n",
    "    plt.xticks([])\n",
    "    plt.yticks([])\n",
    "    plt.show()\n",
    "\n",
    "img = Image.open('027.jpeg')\n",
    "saliency(img, network)\n"
   ]
  },
  {
   "cell_type": "code",
   "execution_count": 69,
   "metadata": {},
   "outputs": [
    {
     "data": {
      "image/png": "[encoded data removed]",
      "text/plain": [
       "<Figure size 1800x1200 with 3 Axes>"
      ]
     },
     "metadata": {},
     "output_type": "display_data"
    },
    {
     "data": {
      "image/png": "[encoded data removed]",
      "text/plain": [
       "<Figure size 1800x1200 with 3 Axes>"
      ]
     },
     "metadata": {},
     "output_type": "display_data"
    },
    {
     "data": {
      "image/png": "[encoded data removed]",
      "text/plain": [
       "<Figure size 1800x1200 with 3 Axes>"
      ]
     },
     "metadata": {},
     "output_type": "display_data"
    }
   ],
   "source": [
    "import torch\n",
    "import torchvision.models as models\n",
    "import torchvision.transforms as T\n",
    "import numpy as np\n",
    "import matplotlib.pyplot as plt\n",
    "from PIL import Image\n",
    "\n",
    "# Load the pre-trained VGG-19 model\n",
    "\n",
    "network.eval()\n",
    "\n",
    "# Freeze the parameters\n",
    "for param in network.parameters():\n",
    "    param.requires_grad = False\n",
    "\n",
    "# Load the image\n",
    "imgCovid = Image.open('imgCovid.jpeg')\n",
    "imgNormal = Image.open('imgNormal.jpeg')\n",
    "imgViralPneumonia = Image.open('imgViralPneumonia.jpeg')\n",
    "\n",
    "# Preprocess the image\n",
    "def preprocess(image):\n",
    "    transform = T.Compose([\n",
    "        T.Resize((32, 32)),  \n",
    "        T.ToTensor(),\n",
    "        T.Normalize(mean=[0.485, 0.456, 0.406], std=[0.229, 0.224, 0.225]),\n",
    "    ])\n",
    "    return transform(image).unsqueeze(0)  # Add batch dimension\n",
    "\n",
    "def deprocess(image):\n",
    "    transform = T.Compose([\n",
    "        T.Normalize(mean=[-0.485 / 0.229, -0.456 / 0.224, -0.406 / 0.225], std=[1 / 0.229, 1 / 0.224, 1 / 0.225]),\n",
    "        T.Lambda(lambda x: torch.clamp(x, 0, 1)),  # Clamp to valid range [0, 1]\n",
    "        T.ToPILImage(),\n",
    "    ])\n",
    "    return transform(image)\n",
    "\n",
    "\n",
    "def visualize_saliency(img, network,img_name):\n",
    "    # Preprocess the image\n",
    "    X = preprocess(img)\n",
    "\n",
    "    # Ensure both model and input image are on the same device\n",
    "    device = torch.device(\"cuda\" if torch.cuda.is_available() else \"cpu\")\n",
    "    network.to(device)\n",
    "    X = X.to(device)\n",
    "    X.requires_grad_()\n",
    "\n",
    "    # Forward pass\n",
    "    scores = network(X)\n",
    "    score_max_index = scores.argmax()\n",
    "    score_max = scores[0, score_max_index]\n",
    "    score_max.backward()\n",
    "\n",
    "    saliency, _ = torch.max(X.grad.abs(), dim=1)\n",
    "\n",
    "    # Normalize the saliency map\n",
    "    saliency = saliency.squeeze().cpu().numpy()\n",
    "    saliency = (saliency - saliency.min()) / (saliency.max() - saliency.min())\n",
    "\n",
    "    # Create subplots\n",
    "    plt.figure(figsize=(18, 12))\n",
    "\n",
    "    # Visualize the original image, its saliency map, and overlay\n",
    "    plt.subplot(3, 4, 1)\n",
    "    plt.imshow(img.resize((32, 32)))\n",
    "    plt.title(img_name)\n",
    "    plt.xticks([]), plt.yticks([])\n",
    "\n",
    "    plt.subplot(3, 4, 2)\n",
    "    plt.imshow(saliency, cmap=plt.cm.jet)\n",
    "    plt.title('Saliency Map')\n",
    "    plt.xticks([]), plt.yticks([])\n",
    "\n",
    "    plt.subplot(3, 4, 3)\n",
    "    plt.imshow(img.resize((32, 32)))\n",
    "    plt.imshow(saliency, cmap=plt.cm.jet, alpha=0.6)\n",
    "    plt.title('Overlay')\n",
    "    plt.xticks([]), plt.yticks([])\n",
    "\n",
    "    plt.tight_layout()\n",
    "    plt.show()\n",
    "\n",
    "# Example usage:\n",
    "visualize_saliency(imgCovid, network,\"Covid Img\")\n",
    "visualize_saliency(imgNormal, network,\"Normal Img\")\n",
    "visualize_saliency(imgViralPneumonia, network,\"ViralPneumonia Img\")"
   ]
  },
  {
   "cell_type": "code",
   "execution_count": null,
   "metadata": {},
   "outputs": [],
   "source": [
    "https://discuss.pytorch.org/t/understanding-transform-normalize/21730\n",
    "\n",
    "https://pytorch.org/vision/main/generated/torchvision.datasets.ImageFolder.html\n",
    "\n",
    "https://www.geeksforgeeks.org/python-loop-through-folders-and-files-in-directory/\n",
    "\n",
    "https://pytorch.org/docs/stable/generated/torch.nn.CrossEntropyLoss.html\n",
    "\n",
    "https://imgaug.readthedocs.io/en/latest/source/overview/meta.html\n",
    "\n",
    "https://github.com/sunnynevarekar/pytorch-saliency-maps/blob/master/Saliency_maps_in_pytorch.ipynb"
   ]
  }
 ],
 "metadata": {
  "kernelspec": {
   "display_name": "ML",
   "language": "python",
   "name": "python3"
  },
  "language_info": {
   "codemirror_mode": {
    "name": "ipython",
    "version": 3
   },
   "file_extension": ".py",
   "mimetype": "text/x-python",
   "name": "python",
   "nbconvert_exporter": "python",
   "pygments_lexer": "ipython3",
   "version": "3.12.3"
  }
 },
 "nbformat": 4,
 "nbformat_minor": 2
}
